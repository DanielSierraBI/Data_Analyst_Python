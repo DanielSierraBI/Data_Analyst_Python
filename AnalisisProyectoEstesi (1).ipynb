{
 "cells": [
  {
   "cell_type": "markdown",
   "id": "a1b71e95-1c8c-47f7-8dc5-14caae1ba751",
   "metadata": {
    "tags": []
   },
   "source": [
    "# Proyecto de analisís de datos - Predecir la decersión de los estudiantes"
   ]
  },
  {
   "cell_type": "markdown",
   "id": "7b3a3c04-def9-4019-ae9b-6f13b1c21fa5",
   "metadata": {},
   "source": [
    "## Pasos para estudio:"
   ]
  },
  {
   "cell_type": "markdown",
   "id": "632d54c2-dcc8-4179-b024-6f733511e167",
   "metadata": {},
   "source": [
    "1. Carga de datos\n",
    "2. Exploración de datos\n",
    "3. Limpieza y preparación de los datos\n",
    "4. Estudio de las variables \n",
    "5. Procesamiento de datos\n",
    "6. Implementación de modelos predictivos \n",
    "7. Evaluación de modelos predictivos\n",
    "8. Evaluación sobre el test set\n",
    "9. Conclusión"
   ]
  },
  {
   "cell_type": "markdown",
   "id": "f3bf3105-280b-4afe-ac7a-3527f816da38",
   "metadata": {},
   "source": [
    "### Carga de datos "
   ]
  },
  {
   "cell_type": "code",
   "execution_count": 307,
   "id": "4e22fd8d-88bc-4cf2-8e03-5dd6f1daf286",
   "metadata": {
    "tags": []
   },
   "outputs": [],
   "source": [
    "import numpy as np\n",
    "import pandas as pd\n",
    "import sklearn\n",
    "from sklearn import preprocessing\n",
    "from sklearn.model_selection import train_test_split\n",
    "import matplotlib.pyplot as plt"
   ]
  },
  {
   "cell_type": "code",
   "execution_count": 308,
   "id": "8b7590bf-8525-4972-831f-3b106c8c95b8",
   "metadata": {
    "tags": []
   },
   "outputs": [],
   "source": [
    "# Lectura de datos \n",
    "df = pd.read_csv('dataset.csv')"
   ]
  },
  {
   "cell_type": "code",
   "execution_count": 309,
   "id": "ee7d865d-c606-49f0-8771-f4cc1939d9b1",
   "metadata": {
    "tags": []
   },
   "outputs": [],
   "source": [
    "#Division de datos de entrenamiento y prueba\n",
    "train_df, test_df = sklearn.model_selection.train_test_split(df, test_size=0.30)"
   ]
  },
  {
   "cell_type": "code",
   "execution_count": 310,
   "id": "debd30d1-29d9-4ed3-98e6-2b56ca4d5e25",
   "metadata": {
    "tags": []
   },
   "outputs": [],
   "source": [
    "#Guardar datos de entrenamiento y prueba \n",
    "train_df.to_csv('train.csv', index=False)\n",
    "test_df.to_csv('test.csv', index=False)"
   ]
  },
  {
   "cell_type": "code",
   "execution_count": 311,
   "id": "fec167ea-fe1e-46c6-a7ad-c8e45e84bcbc",
   "metadata": {
    "tags": []
   },
   "outputs": [
    {
     "data": {
      "text/html": [
       "<div>\n",
       "<style scoped>\n",
       "    .dataframe tbody tr th:only-of-type {\n",
       "        vertical-align: middle;\n",
       "    }\n",
       "\n",
       "    .dataframe tbody tr th {\n",
       "        vertical-align: top;\n",
       "    }\n",
       "\n",
       "    .dataframe thead th {\n",
       "        text-align: right;\n",
       "    }\n",
       "</style>\n",
       "<table border=\"1\" class=\"dataframe\">\n",
       "  <thead>\n",
       "    <tr style=\"text-align: right;\">\n",
       "      <th></th>\n",
       "      <th>Marital status</th>\n",
       "      <th>Application mode</th>\n",
       "      <th>Application order</th>\n",
       "      <th>Course</th>\n",
       "      <th>Daytime/evening attendance</th>\n",
       "      <th>Previous qualification</th>\n",
       "      <th>Nacionality</th>\n",
       "      <th>Mother's qualification</th>\n",
       "      <th>Father's qualification</th>\n",
       "      <th>Mother's occupation</th>\n",
       "      <th>...</th>\n",
       "      <th>Curricular units 2nd sem (credited)</th>\n",
       "      <th>Curricular units 2nd sem (enrolled)</th>\n",
       "      <th>Curricular units 2nd sem (evaluations)</th>\n",
       "      <th>Curricular units 2nd sem (approved)</th>\n",
       "      <th>Curricular units 2nd sem (grade)</th>\n",
       "      <th>Curricular units 2nd sem (without evaluations)</th>\n",
       "      <th>Unemployment rate</th>\n",
       "      <th>Inflation rate</th>\n",
       "      <th>GDP</th>\n",
       "      <th>Target</th>\n",
       "    </tr>\n",
       "  </thead>\n",
       "  <tbody>\n",
       "    <tr>\n",
       "      <th>1607</th>\n",
       "      <td>1</td>\n",
       "      <td>1</td>\n",
       "      <td>6</td>\n",
       "      <td>12</td>\n",
       "      <td>1</td>\n",
       "      <td>1</td>\n",
       "      <td>1</td>\n",
       "      <td>4</td>\n",
       "      <td>3</td>\n",
       "      <td>3</td>\n",
       "      <td>...</td>\n",
       "      <td>0</td>\n",
       "      <td>8</td>\n",
       "      <td>9</td>\n",
       "      <td>8</td>\n",
       "      <td>12.8875</td>\n",
       "      <td>1</td>\n",
       "      <td>9.4</td>\n",
       "      <td>-0.8</td>\n",
       "      <td>-3.12</td>\n",
       "      <td>Graduate</td>\n",
       "    </tr>\n",
       "    <tr>\n",
       "      <th>633</th>\n",
       "      <td>1</td>\n",
       "      <td>12</td>\n",
       "      <td>1</td>\n",
       "      <td>13</td>\n",
       "      <td>1</td>\n",
       "      <td>1</td>\n",
       "      <td>1</td>\n",
       "      <td>23</td>\n",
       "      <td>28</td>\n",
       "      <td>29</td>\n",
       "      <td>...</td>\n",
       "      <td>0</td>\n",
       "      <td>8</td>\n",
       "      <td>13</td>\n",
       "      <td>7</td>\n",
       "      <td>11.7000</td>\n",
       "      <td>0</td>\n",
       "      <td>12.7</td>\n",
       "      <td>3.7</td>\n",
       "      <td>-1.70</td>\n",
       "      <td>Graduate</td>\n",
       "    </tr>\n",
       "    <tr>\n",
       "      <th>4274</th>\n",
       "      <td>1</td>\n",
       "      <td>1</td>\n",
       "      <td>1</td>\n",
       "      <td>11</td>\n",
       "      <td>1</td>\n",
       "      <td>1</td>\n",
       "      <td>1</td>\n",
       "      <td>22</td>\n",
       "      <td>14</td>\n",
       "      <td>10</td>\n",
       "      <td>...</td>\n",
       "      <td>0</td>\n",
       "      <td>6</td>\n",
       "      <td>8</td>\n",
       "      <td>5</td>\n",
       "      <td>12.6000</td>\n",
       "      <td>0</td>\n",
       "      <td>7.6</td>\n",
       "      <td>2.6</td>\n",
       "      <td>0.32</td>\n",
       "      <td>Enrolled</td>\n",
       "    </tr>\n",
       "    <tr>\n",
       "      <th>4173</th>\n",
       "      <td>1</td>\n",
       "      <td>1</td>\n",
       "      <td>2</td>\n",
       "      <td>12</td>\n",
       "      <td>1</td>\n",
       "      <td>1</td>\n",
       "      <td>1</td>\n",
       "      <td>22</td>\n",
       "      <td>27</td>\n",
       "      <td>8</td>\n",
       "      <td>...</td>\n",
       "      <td>0</td>\n",
       "      <td>8</td>\n",
       "      <td>8</td>\n",
       "      <td>8</td>\n",
       "      <td>15.0000</td>\n",
       "      <td>0</td>\n",
       "      <td>11.1</td>\n",
       "      <td>0.6</td>\n",
       "      <td>2.02</td>\n",
       "      <td>Graduate</td>\n",
       "    </tr>\n",
       "    <tr>\n",
       "      <th>2581</th>\n",
       "      <td>1</td>\n",
       "      <td>12</td>\n",
       "      <td>1</td>\n",
       "      <td>4</td>\n",
       "      <td>1</td>\n",
       "      <td>1</td>\n",
       "      <td>1</td>\n",
       "      <td>23</td>\n",
       "      <td>28</td>\n",
       "      <td>5</td>\n",
       "      <td>...</td>\n",
       "      <td>0</td>\n",
       "      <td>6</td>\n",
       "      <td>8</td>\n",
       "      <td>0</td>\n",
       "      <td>0.0000</td>\n",
       "      <td>0</td>\n",
       "      <td>15.5</td>\n",
       "      <td>2.8</td>\n",
       "      <td>-4.06</td>\n",
       "      <td>Dropout</td>\n",
       "    </tr>\n",
       "  </tbody>\n",
       "</table>\n",
       "<p>5 rows × 35 columns</p>\n",
       "</div>"
      ],
      "text/plain": [
       "      Marital status  Application mode  Application order  Course  \\\n",
       "1607               1                 1                  6      12   \n",
       "633                1                12                  1      13   \n",
       "4274               1                 1                  1      11   \n",
       "4173               1                 1                  2      12   \n",
       "2581               1                12                  1       4   \n",
       "\n",
       "      Daytime/evening attendance  Previous qualification  Nacionality  \\\n",
       "1607                           1                       1            1   \n",
       "633                            1                       1            1   \n",
       "4274                           1                       1            1   \n",
       "4173                           1                       1            1   \n",
       "2581                           1                       1            1   \n",
       "\n",
       "      Mother's qualification  Father's qualification  Mother's occupation  \\\n",
       "1607                       4                       3                    3   \n",
       "633                       23                      28                   29   \n",
       "4274                      22                      14                   10   \n",
       "4173                      22                      27                    8   \n",
       "2581                      23                      28                    5   \n",
       "\n",
       "      ...  Curricular units 2nd sem (credited)  \\\n",
       "1607  ...                                    0   \n",
       "633   ...                                    0   \n",
       "4274  ...                                    0   \n",
       "4173  ...                                    0   \n",
       "2581  ...                                    0   \n",
       "\n",
       "      Curricular units 2nd sem (enrolled)  \\\n",
       "1607                                    8   \n",
       "633                                     8   \n",
       "4274                                    6   \n",
       "4173                                    8   \n",
       "2581                                    6   \n",
       "\n",
       "      Curricular units 2nd sem (evaluations)  \\\n",
       "1607                                       9   \n",
       "633                                       13   \n",
       "4274                                       8   \n",
       "4173                                       8   \n",
       "2581                                       8   \n",
       "\n",
       "      Curricular units 2nd sem (approved)  Curricular units 2nd sem (grade)  \\\n",
       "1607                                    8                           12.8875   \n",
       "633                                     7                           11.7000   \n",
       "4274                                    5                           12.6000   \n",
       "4173                                    8                           15.0000   \n",
       "2581                                    0                            0.0000   \n",
       "\n",
       "      Curricular units 2nd sem (without evaluations)  Unemployment rate  \\\n",
       "1607                                               1                9.4   \n",
       "633                                                0               12.7   \n",
       "4274                                               0                7.6   \n",
       "4173                                               0               11.1   \n",
       "2581                                               0               15.5   \n",
       "\n",
       "      Inflation rate   GDP    Target  \n",
       "1607            -0.8 -3.12  Graduate  \n",
       "633              3.7 -1.70  Graduate  \n",
       "4274             2.6  0.32  Enrolled  \n",
       "4173             0.6  2.02  Graduate  \n",
       "2581             2.8 -4.06   Dropout  \n",
       "\n",
       "[5 rows x 35 columns]"
      ]
     },
     "execution_count": 311,
     "metadata": {},
     "output_type": "execute_result"
    }
   ],
   "source": [
    "train_df.head()"
   ]
  },
  {
   "cell_type": "code",
   "execution_count": 312,
   "id": "18a18ef9-10f5-46d4-bbc1-4f593691ebe7",
   "metadata": {
    "tags": []
   },
   "outputs": [
    {
     "data": {
      "text/html": [
       "<div>\n",
       "<style scoped>\n",
       "    .dataframe tbody tr th:only-of-type {\n",
       "        vertical-align: middle;\n",
       "    }\n",
       "\n",
       "    .dataframe tbody tr th {\n",
       "        vertical-align: top;\n",
       "    }\n",
       "\n",
       "    .dataframe thead th {\n",
       "        text-align: right;\n",
       "    }\n",
       "</style>\n",
       "<table border=\"1\" class=\"dataframe\">\n",
       "  <thead>\n",
       "    <tr style=\"text-align: right;\">\n",
       "      <th></th>\n",
       "      <th>Marital status</th>\n",
       "      <th>Application mode</th>\n",
       "      <th>Application order</th>\n",
       "      <th>Course</th>\n",
       "      <th>Daytime/evening attendance</th>\n",
       "      <th>Previous qualification</th>\n",
       "      <th>Nacionality</th>\n",
       "      <th>Mother's qualification</th>\n",
       "      <th>Father's qualification</th>\n",
       "      <th>Mother's occupation</th>\n",
       "      <th>...</th>\n",
       "      <th>Curricular units 2nd sem (credited)</th>\n",
       "      <th>Curricular units 2nd sem (enrolled)</th>\n",
       "      <th>Curricular units 2nd sem (evaluations)</th>\n",
       "      <th>Curricular units 2nd sem (approved)</th>\n",
       "      <th>Curricular units 2nd sem (grade)</th>\n",
       "      <th>Curricular units 2nd sem (without evaluations)</th>\n",
       "      <th>Unemployment rate</th>\n",
       "      <th>Inflation rate</th>\n",
       "      <th>GDP</th>\n",
       "      <th>Target</th>\n",
       "    </tr>\n",
       "  </thead>\n",
       "  <tbody>\n",
       "    <tr>\n",
       "      <th>1235</th>\n",
       "      <td>1</td>\n",
       "      <td>12</td>\n",
       "      <td>1</td>\n",
       "      <td>17</td>\n",
       "      <td>0</td>\n",
       "      <td>1</td>\n",
       "      <td>1</td>\n",
       "      <td>13</td>\n",
       "      <td>28</td>\n",
       "      <td>8</td>\n",
       "      <td>...</td>\n",
       "      <td>0</td>\n",
       "      <td>5</td>\n",
       "      <td>9</td>\n",
       "      <td>3</td>\n",
       "      <td>11.000000</td>\n",
       "      <td>0</td>\n",
       "      <td>10.8</td>\n",
       "      <td>1.4</td>\n",
       "      <td>1.74</td>\n",
       "      <td>Dropout</td>\n",
       "    </tr>\n",
       "    <tr>\n",
       "      <th>1294</th>\n",
       "      <td>2</td>\n",
       "      <td>12</td>\n",
       "      <td>1</td>\n",
       "      <td>4</td>\n",
       "      <td>1</td>\n",
       "      <td>1</td>\n",
       "      <td>1</td>\n",
       "      <td>1</td>\n",
       "      <td>31</td>\n",
       "      <td>10</td>\n",
       "      <td>...</td>\n",
       "      <td>0</td>\n",
       "      <td>6</td>\n",
       "      <td>0</td>\n",
       "      <td>0</td>\n",
       "      <td>0.000000</td>\n",
       "      <td>0</td>\n",
       "      <td>12.4</td>\n",
       "      <td>0.5</td>\n",
       "      <td>1.79</td>\n",
       "      <td>Dropout</td>\n",
       "    </tr>\n",
       "    <tr>\n",
       "      <th>1322</th>\n",
       "      <td>1</td>\n",
       "      <td>1</td>\n",
       "      <td>5</td>\n",
       "      <td>12</td>\n",
       "      <td>1</td>\n",
       "      <td>1</td>\n",
       "      <td>1</td>\n",
       "      <td>23</td>\n",
       "      <td>28</td>\n",
       "      <td>10</td>\n",
       "      <td>...</td>\n",
       "      <td>0</td>\n",
       "      <td>8</td>\n",
       "      <td>8</td>\n",
       "      <td>8</td>\n",
       "      <td>13.763750</td>\n",
       "      <td>0</td>\n",
       "      <td>9.4</td>\n",
       "      <td>-0.8</td>\n",
       "      <td>-3.12</td>\n",
       "      <td>Graduate</td>\n",
       "    </tr>\n",
       "    <tr>\n",
       "      <th>3390</th>\n",
       "      <td>1</td>\n",
       "      <td>8</td>\n",
       "      <td>1</td>\n",
       "      <td>16</td>\n",
       "      <td>1</td>\n",
       "      <td>1</td>\n",
       "      <td>1</td>\n",
       "      <td>23</td>\n",
       "      <td>28</td>\n",
       "      <td>10</td>\n",
       "      <td>...</td>\n",
       "      <td>0</td>\n",
       "      <td>7</td>\n",
       "      <td>7</td>\n",
       "      <td>7</td>\n",
       "      <td>12.285714</td>\n",
       "      <td>0</td>\n",
       "      <td>16.2</td>\n",
       "      <td>0.3</td>\n",
       "      <td>-0.92</td>\n",
       "      <td>Graduate</td>\n",
       "    </tr>\n",
       "    <tr>\n",
       "      <th>326</th>\n",
       "      <td>1</td>\n",
       "      <td>14</td>\n",
       "      <td>1</td>\n",
       "      <td>12</td>\n",
       "      <td>1</td>\n",
       "      <td>6</td>\n",
       "      <td>1</td>\n",
       "      <td>1</td>\n",
       "      <td>27</td>\n",
       "      <td>10</td>\n",
       "      <td>...</td>\n",
       "      <td>0</td>\n",
       "      <td>7</td>\n",
       "      <td>7</td>\n",
       "      <td>6</td>\n",
       "      <td>13.333333</td>\n",
       "      <td>0</td>\n",
       "      <td>7.6</td>\n",
       "      <td>2.6</td>\n",
       "      <td>0.32</td>\n",
       "      <td>Graduate</td>\n",
       "    </tr>\n",
       "  </tbody>\n",
       "</table>\n",
       "<p>5 rows × 35 columns</p>\n",
       "</div>"
      ],
      "text/plain": [
       "      Marital status  Application mode  Application order  Course  \\\n",
       "1235               1                12                  1      17   \n",
       "1294               2                12                  1       4   \n",
       "1322               1                 1                  5      12   \n",
       "3390               1                 8                  1      16   \n",
       "326                1                14                  1      12   \n",
       "\n",
       "      Daytime/evening attendance  Previous qualification  Nacionality  \\\n",
       "1235                           0                       1            1   \n",
       "1294                           1                       1            1   \n",
       "1322                           1                       1            1   \n",
       "3390                           1                       1            1   \n",
       "326                            1                       6            1   \n",
       "\n",
       "      Mother's qualification  Father's qualification  Mother's occupation  \\\n",
       "1235                      13                      28                    8   \n",
       "1294                       1                      31                   10   \n",
       "1322                      23                      28                   10   \n",
       "3390                      23                      28                   10   \n",
       "326                        1                      27                   10   \n",
       "\n",
       "      ...  Curricular units 2nd sem (credited)  \\\n",
       "1235  ...                                    0   \n",
       "1294  ...                                    0   \n",
       "1322  ...                                    0   \n",
       "3390  ...                                    0   \n",
       "326   ...                                    0   \n",
       "\n",
       "      Curricular units 2nd sem (enrolled)  \\\n",
       "1235                                    5   \n",
       "1294                                    6   \n",
       "1322                                    8   \n",
       "3390                                    7   \n",
       "326                                     7   \n",
       "\n",
       "      Curricular units 2nd sem (evaluations)  \\\n",
       "1235                                       9   \n",
       "1294                                       0   \n",
       "1322                                       8   \n",
       "3390                                       7   \n",
       "326                                        7   \n",
       "\n",
       "      Curricular units 2nd sem (approved)  Curricular units 2nd sem (grade)  \\\n",
       "1235                                    3                         11.000000   \n",
       "1294                                    0                          0.000000   \n",
       "1322                                    8                         13.763750   \n",
       "3390                                    7                         12.285714   \n",
       "326                                     6                         13.333333   \n",
       "\n",
       "      Curricular units 2nd sem (without evaluations)  Unemployment rate  \\\n",
       "1235                                               0               10.8   \n",
       "1294                                               0               12.4   \n",
       "1322                                               0                9.4   \n",
       "3390                                               0               16.2   \n",
       "326                                                0                7.6   \n",
       "\n",
       "      Inflation rate   GDP    Target  \n",
       "1235             1.4  1.74   Dropout  \n",
       "1294             0.5  1.79   Dropout  \n",
       "1322            -0.8 -3.12  Graduate  \n",
       "3390             0.3 -0.92  Graduate  \n",
       "326              2.6  0.32  Graduate  \n",
       "\n",
       "[5 rows x 35 columns]"
      ]
     },
     "execution_count": 312,
     "metadata": {},
     "output_type": "execute_result"
    }
   ],
   "source": [
    "test_df.head()"
   ]
  },
  {
   "cell_type": "markdown",
   "id": "190796c4-30b3-4f7b-b09b-08f5c2e78d22",
   "metadata": {},
   "source": [
    "## Exploración"
   ]
  },
  {
   "cell_type": "code",
   "execution_count": 313,
   "id": "45842ba0-ea06-4168-9572-14417c2ef05a",
   "metadata": {
    "tags": []
   },
   "outputs": [
    {
     "data": {
      "text/plain": [
       "Index(['Marital status', 'Application mode', 'Application order', 'Course',\n",
       "       'Daytime/evening attendance', 'Previous qualification', 'Nacionality',\n",
       "       'Mother's qualification', 'Father's qualification',\n",
       "       'Mother's occupation', 'Father's occupation', 'Displaced',\n",
       "       'Educational special needs', 'Debtor', 'Tuition fees up to date',\n",
       "       'Gender', 'Scholarship holder', 'Age at enrollment', 'International',\n",
       "       'Curricular units 1st sem (credited)',\n",
       "       'Curricular units 1st sem (enrolled)',\n",
       "       'Curricular units 1st sem (evaluations)',\n",
       "       'Curricular units 1st sem (approved)',\n",
       "       'Curricular units 1st sem (grade)',\n",
       "       'Curricular units 1st sem (without evaluations)',\n",
       "       'Curricular units 2nd sem (credited)',\n",
       "       'Curricular units 2nd sem (enrolled)',\n",
       "       'Curricular units 2nd sem (evaluations)',\n",
       "       'Curricular units 2nd sem (approved)',\n",
       "       'Curricular units 2nd sem (grade)',\n",
       "       'Curricular units 2nd sem (without evaluations)', 'Unemployment rate',\n",
       "       'Inflation rate', 'GDP', 'Target'],\n",
       "      dtype='object')"
      ]
     },
     "execution_count": 313,
     "metadata": {},
     "output_type": "execute_result"
    }
   ],
   "source": [
    "#que columna tienen los datos \n",
    "train_df.columns"
   ]
  },
  {
   "cell_type": "code",
   "execution_count": 314,
   "id": "60a58f9e-4866-4ae9-8173-20694c29f256",
   "metadata": {
    "tags": []
   },
   "outputs": [
    {
     "data": {
      "text/plain": [
       "(3096, 35)"
      ]
     },
     "execution_count": 314,
     "metadata": {},
     "output_type": "execute_result"
    }
   ],
   "source": [
    "#que tamaño tienen los datos\n",
    "train_df.shape"
   ]
  },
  {
   "cell_type": "code",
   "execution_count": 315,
   "id": "55c8d01e-7342-4243-b9c8-0c2da4ccd09d",
   "metadata": {
    "tags": []
   },
   "outputs": [
    {
     "name": "stdout",
     "output_type": "stream",
     "text": [
      "<class 'pandas.core.frame.DataFrame'>\n",
      "Int64Index: 3096 entries, 1607 to 242\n",
      "Data columns (total 35 columns):\n",
      " #   Column                                          Non-Null Count  Dtype  \n",
      "---  ------                                          --------------  -----  \n",
      " 0   Marital status                                  3096 non-null   int64  \n",
      " 1   Application mode                                3096 non-null   int64  \n",
      " 2   Application order                               3096 non-null   int64  \n",
      " 3   Course                                          3096 non-null   int64  \n",
      " 4   Daytime/evening attendance                      3096 non-null   int64  \n",
      " 5   Previous qualification                          3096 non-null   int64  \n",
      " 6   Nacionality                                     3096 non-null   int64  \n",
      " 7   Mother's qualification                          3096 non-null   int64  \n",
      " 8   Father's qualification                          3096 non-null   int64  \n",
      " 9   Mother's occupation                             3096 non-null   int64  \n",
      " 10  Father's occupation                             3096 non-null   int64  \n",
      " 11  Displaced                                       3096 non-null   int64  \n",
      " 12  Educational special needs                       3096 non-null   int64  \n",
      " 13  Debtor                                          3096 non-null   int64  \n",
      " 14  Tuition fees up to date                         3096 non-null   int64  \n",
      " 15  Gender                                          3096 non-null   int64  \n",
      " 16  Scholarship holder                              3096 non-null   int64  \n",
      " 17  Age at enrollment                               3096 non-null   int64  \n",
      " 18  International                                   3096 non-null   int64  \n",
      " 19  Curricular units 1st sem (credited)             3096 non-null   int64  \n",
      " 20  Curricular units 1st sem (enrolled)             3096 non-null   int64  \n",
      " 21  Curricular units 1st sem (evaluations)          3096 non-null   int64  \n",
      " 22  Curricular units 1st sem (approved)             3096 non-null   int64  \n",
      " 23  Curricular units 1st sem (grade)                3096 non-null   float64\n",
      " 24  Curricular units 1st sem (without evaluations)  3096 non-null   int64  \n",
      " 25  Curricular units 2nd sem (credited)             3096 non-null   int64  \n",
      " 26  Curricular units 2nd sem (enrolled)             3096 non-null   int64  \n",
      " 27  Curricular units 2nd sem (evaluations)          3096 non-null   int64  \n",
      " 28  Curricular units 2nd sem (approved)             3096 non-null   int64  \n",
      " 29  Curricular units 2nd sem (grade)                3096 non-null   float64\n",
      " 30  Curricular units 2nd sem (without evaluations)  3096 non-null   int64  \n",
      " 31  Unemployment rate                               3096 non-null   float64\n",
      " 32  Inflation rate                                  3096 non-null   float64\n",
      " 33  GDP                                             3096 non-null   float64\n",
      " 34  Target                                          3096 non-null   object \n",
      "dtypes: float64(5), int64(29), object(1)\n",
      "memory usage: 870.8+ KB\n"
     ]
    }
   ],
   "source": [
    "#Hay valores de datos nulos\n",
    "train_df.info()"
   ]
  },
  {
   "cell_type": "markdown",
   "id": "87276f56-decf-447d-8908-ef3cc360e9c0",
   "metadata": {},
   "source": [
    "Total columnas: 35 \n",
    "\n",
    "Total de filas: 3318\n",
    "\n",
    "Tipos de datos: float64 (5), int64(29), object (1)"
   ]
  },
  {
   "cell_type": "code",
   "execution_count": 316,
   "id": "51957ab3-746d-4418-a71b-2e58c142fc6b",
   "metadata": {
    "tags": []
   },
   "outputs": [
    {
     "data": {
      "text/html": [
       "<div>\n",
       "<style scoped>\n",
       "    .dataframe tbody tr th:only-of-type {\n",
       "        vertical-align: middle;\n",
       "    }\n",
       "\n",
       "    .dataframe tbody tr th {\n",
       "        vertical-align: top;\n",
       "    }\n",
       "\n",
       "    .dataframe thead th {\n",
       "        text-align: right;\n",
       "    }\n",
       "</style>\n",
       "<table border=\"1\" class=\"dataframe\">\n",
       "  <thead>\n",
       "    <tr style=\"text-align: right;\">\n",
       "      <th></th>\n",
       "      <th>Marital status</th>\n",
       "      <th>Application mode</th>\n",
       "      <th>Application order</th>\n",
       "      <th>Course</th>\n",
       "      <th>Daytime/evening attendance</th>\n",
       "      <th>Previous qualification</th>\n",
       "      <th>Nacionality</th>\n",
       "      <th>Mother's qualification</th>\n",
       "      <th>Father's qualification</th>\n",
       "      <th>Mother's occupation</th>\n",
       "      <th>...</th>\n",
       "      <th>Curricular units 1st sem (without evaluations)</th>\n",
       "      <th>Curricular units 2nd sem (credited)</th>\n",
       "      <th>Curricular units 2nd sem (enrolled)</th>\n",
       "      <th>Curricular units 2nd sem (evaluations)</th>\n",
       "      <th>Curricular units 2nd sem (approved)</th>\n",
       "      <th>Curricular units 2nd sem (grade)</th>\n",
       "      <th>Curricular units 2nd sem (without evaluations)</th>\n",
       "      <th>Unemployment rate</th>\n",
       "      <th>Inflation rate</th>\n",
       "      <th>GDP</th>\n",
       "    </tr>\n",
       "  </thead>\n",
       "  <tbody>\n",
       "    <tr>\n",
       "      <th>count</th>\n",
       "      <td>3096.000000</td>\n",
       "      <td>3096.000000</td>\n",
       "      <td>3096.000000</td>\n",
       "      <td>3096.000000</td>\n",
       "      <td>3096.000000</td>\n",
       "      <td>3096.000000</td>\n",
       "      <td>3096.000000</td>\n",
       "      <td>3096.000000</td>\n",
       "      <td>3096.000000</td>\n",
       "      <td>3096.000000</td>\n",
       "      <td>...</td>\n",
       "      <td>3096.000000</td>\n",
       "      <td>3096.000000</td>\n",
       "      <td>3096.000000</td>\n",
       "      <td>3096.000000</td>\n",
       "      <td>3096.000000</td>\n",
       "      <td>3096.000000</td>\n",
       "      <td>3096.000000</td>\n",
       "      <td>3096.000000</td>\n",
       "      <td>3096.000000</td>\n",
       "      <td>3096.000000</td>\n",
       "    </tr>\n",
       "    <tr>\n",
       "      <th>mean</th>\n",
       "      <td>1.177326</td>\n",
       "      <td>6.897610</td>\n",
       "      <td>1.737080</td>\n",
       "      <td>9.864664</td>\n",
       "      <td>0.890827</td>\n",
       "      <td>2.495801</td>\n",
       "      <td>1.276163</td>\n",
       "      <td>12.265827</td>\n",
       "      <td>16.318475</td>\n",
       "      <td>7.262597</td>\n",
       "      <td>...</td>\n",
       "      <td>0.139858</td>\n",
       "      <td>0.552003</td>\n",
       "      <td>6.239341</td>\n",
       "      <td>8.011628</td>\n",
       "      <td>4.445736</td>\n",
       "      <td>10.205915</td>\n",
       "      <td>0.144380</td>\n",
       "      <td>11.604780</td>\n",
       "      <td>1.217862</td>\n",
       "      <td>-0.016631</td>\n",
       "    </tr>\n",
       "    <tr>\n",
       "      <th>std</th>\n",
       "      <td>0.599851</td>\n",
       "      <td>5.263725</td>\n",
       "      <td>1.319664</td>\n",
       "      <td>4.330390</td>\n",
       "      <td>0.311907</td>\n",
       "      <td>3.915090</td>\n",
       "      <td>1.837404</td>\n",
       "      <td>9.030915</td>\n",
       "      <td>11.064446</td>\n",
       "      <td>3.926774</td>\n",
       "      <td>...</td>\n",
       "      <td>0.690681</td>\n",
       "      <td>1.919177</td>\n",
       "      <td>2.203511</td>\n",
       "      <td>3.920765</td>\n",
       "      <td>3.036498</td>\n",
       "      <td>5.234592</td>\n",
       "      <td>0.751189</td>\n",
       "      <td>2.665833</td>\n",
       "      <td>1.378021</td>\n",
       "      <td>2.275456</td>\n",
       "    </tr>\n",
       "    <tr>\n",
       "      <th>min</th>\n",
       "      <td>1.000000</td>\n",
       "      <td>1.000000</td>\n",
       "      <td>1.000000</td>\n",
       "      <td>1.000000</td>\n",
       "      <td>0.000000</td>\n",
       "      <td>1.000000</td>\n",
       "      <td>1.000000</td>\n",
       "      <td>1.000000</td>\n",
       "      <td>1.000000</td>\n",
       "      <td>1.000000</td>\n",
       "      <td>...</td>\n",
       "      <td>0.000000</td>\n",
       "      <td>0.000000</td>\n",
       "      <td>0.000000</td>\n",
       "      <td>0.000000</td>\n",
       "      <td>0.000000</td>\n",
       "      <td>0.000000</td>\n",
       "      <td>0.000000</td>\n",
       "      <td>7.600000</td>\n",
       "      <td>-0.800000</td>\n",
       "      <td>-4.060000</td>\n",
       "    </tr>\n",
       "    <tr>\n",
       "      <th>25%</th>\n",
       "      <td>1.000000</td>\n",
       "      <td>1.000000</td>\n",
       "      <td>1.000000</td>\n",
       "      <td>6.000000</td>\n",
       "      <td>1.000000</td>\n",
       "      <td>1.000000</td>\n",
       "      <td>1.000000</td>\n",
       "      <td>2.000000</td>\n",
       "      <td>3.000000</td>\n",
       "      <td>5.000000</td>\n",
       "      <td>...</td>\n",
       "      <td>0.000000</td>\n",
       "      <td>0.000000</td>\n",
       "      <td>5.000000</td>\n",
       "      <td>6.000000</td>\n",
       "      <td>2.000000</td>\n",
       "      <td>10.800000</td>\n",
       "      <td>0.000000</td>\n",
       "      <td>9.400000</td>\n",
       "      <td>0.300000</td>\n",
       "      <td>-1.700000</td>\n",
       "    </tr>\n",
       "    <tr>\n",
       "      <th>50%</th>\n",
       "      <td>1.000000</td>\n",
       "      <td>8.000000</td>\n",
       "      <td>1.000000</td>\n",
       "      <td>10.000000</td>\n",
       "      <td>1.000000</td>\n",
       "      <td>1.000000</td>\n",
       "      <td>1.000000</td>\n",
       "      <td>13.000000</td>\n",
       "      <td>14.000000</td>\n",
       "      <td>6.000000</td>\n",
       "      <td>...</td>\n",
       "      <td>0.000000</td>\n",
       "      <td>0.000000</td>\n",
       "      <td>6.000000</td>\n",
       "      <td>8.000000</td>\n",
       "      <td>5.000000</td>\n",
       "      <td>12.200000</td>\n",
       "      <td>0.000000</td>\n",
       "      <td>11.100000</td>\n",
       "      <td>1.400000</td>\n",
       "      <td>0.320000</td>\n",
       "    </tr>\n",
       "    <tr>\n",
       "      <th>75%</th>\n",
       "      <td>1.000000</td>\n",
       "      <td>12.000000</td>\n",
       "      <td>2.000000</td>\n",
       "      <td>13.000000</td>\n",
       "      <td>1.000000</td>\n",
       "      <td>1.000000</td>\n",
       "      <td>1.000000</td>\n",
       "      <td>22.000000</td>\n",
       "      <td>27.000000</td>\n",
       "      <td>10.000000</td>\n",
       "      <td>...</td>\n",
       "      <td>0.000000</td>\n",
       "      <td>0.000000</td>\n",
       "      <td>7.000000</td>\n",
       "      <td>10.000000</td>\n",
       "      <td>6.000000</td>\n",
       "      <td>13.333333</td>\n",
       "      <td>0.000000</td>\n",
       "      <td>13.900000</td>\n",
       "      <td>2.600000</td>\n",
       "      <td>1.790000</td>\n",
       "    </tr>\n",
       "    <tr>\n",
       "      <th>max</th>\n",
       "      <td>6.000000</td>\n",
       "      <td>17.000000</td>\n",
       "      <td>9.000000</td>\n",
       "      <td>17.000000</td>\n",
       "      <td>1.000000</td>\n",
       "      <td>17.000000</td>\n",
       "      <td>21.000000</td>\n",
       "      <td>29.000000</td>\n",
       "      <td>34.000000</td>\n",
       "      <td>32.000000</td>\n",
       "      <td>...</td>\n",
       "      <td>12.000000</td>\n",
       "      <td>19.000000</td>\n",
       "      <td>23.000000</td>\n",
       "      <td>33.000000</td>\n",
       "      <td>20.000000</td>\n",
       "      <td>18.571429</td>\n",
       "      <td>12.000000</td>\n",
       "      <td>16.200000</td>\n",
       "      <td>3.700000</td>\n",
       "      <td>3.510000</td>\n",
       "    </tr>\n",
       "  </tbody>\n",
       "</table>\n",
       "<p>8 rows × 34 columns</p>\n",
       "</div>"
      ],
      "text/plain": [
       "       Marital status  Application mode  Application order       Course  \\\n",
       "count     3096.000000       3096.000000        3096.000000  3096.000000   \n",
       "mean         1.177326          6.897610           1.737080     9.864664   \n",
       "std          0.599851          5.263725           1.319664     4.330390   \n",
       "min          1.000000          1.000000           1.000000     1.000000   \n",
       "25%          1.000000          1.000000           1.000000     6.000000   \n",
       "50%          1.000000          8.000000           1.000000    10.000000   \n",
       "75%          1.000000         12.000000           2.000000    13.000000   \n",
       "max          6.000000         17.000000           9.000000    17.000000   \n",
       "\n",
       "       Daytime/evening attendance  Previous qualification  Nacionality  \\\n",
       "count                 3096.000000             3096.000000  3096.000000   \n",
       "mean                     0.890827                2.495801     1.276163   \n",
       "std                      0.311907                3.915090     1.837404   \n",
       "min                      0.000000                1.000000     1.000000   \n",
       "25%                      1.000000                1.000000     1.000000   \n",
       "50%                      1.000000                1.000000     1.000000   \n",
       "75%                      1.000000                1.000000     1.000000   \n",
       "max                      1.000000               17.000000    21.000000   \n",
       "\n",
       "       Mother's qualification  Father's qualification  Mother's occupation  \\\n",
       "count             3096.000000             3096.000000          3096.000000   \n",
       "mean                12.265827               16.318475             7.262597   \n",
       "std                  9.030915               11.064446             3.926774   \n",
       "min                  1.000000                1.000000             1.000000   \n",
       "25%                  2.000000                3.000000             5.000000   \n",
       "50%                 13.000000               14.000000             6.000000   \n",
       "75%                 22.000000               27.000000            10.000000   \n",
       "max                 29.000000               34.000000            32.000000   \n",
       "\n",
       "       ...  Curricular units 1st sem (without evaluations)  \\\n",
       "count  ...                                     3096.000000   \n",
       "mean   ...                                        0.139858   \n",
       "std    ...                                        0.690681   \n",
       "min    ...                                        0.000000   \n",
       "25%    ...                                        0.000000   \n",
       "50%    ...                                        0.000000   \n",
       "75%    ...                                        0.000000   \n",
       "max    ...                                       12.000000   \n",
       "\n",
       "       Curricular units 2nd sem (credited)  \\\n",
       "count                          3096.000000   \n",
       "mean                              0.552003   \n",
       "std                               1.919177   \n",
       "min                               0.000000   \n",
       "25%                               0.000000   \n",
       "50%                               0.000000   \n",
       "75%                               0.000000   \n",
       "max                              19.000000   \n",
       "\n",
       "       Curricular units 2nd sem (enrolled)  \\\n",
       "count                          3096.000000   \n",
       "mean                              6.239341   \n",
       "std                               2.203511   \n",
       "min                               0.000000   \n",
       "25%                               5.000000   \n",
       "50%                               6.000000   \n",
       "75%                               7.000000   \n",
       "max                              23.000000   \n",
       "\n",
       "       Curricular units 2nd sem (evaluations)  \\\n",
       "count                             3096.000000   \n",
       "mean                                 8.011628   \n",
       "std                                  3.920765   \n",
       "min                                  0.000000   \n",
       "25%                                  6.000000   \n",
       "50%                                  8.000000   \n",
       "75%                                 10.000000   \n",
       "max                                 33.000000   \n",
       "\n",
       "       Curricular units 2nd sem (approved)  Curricular units 2nd sem (grade)  \\\n",
       "count                          3096.000000                       3096.000000   \n",
       "mean                              4.445736                         10.205915   \n",
       "std                               3.036498                          5.234592   \n",
       "min                               0.000000                          0.000000   \n",
       "25%                               2.000000                         10.800000   \n",
       "50%                               5.000000                         12.200000   \n",
       "75%                               6.000000                         13.333333   \n",
       "max                              20.000000                         18.571429   \n",
       "\n",
       "       Curricular units 2nd sem (without evaluations)  Unemployment rate  \\\n",
       "count                                     3096.000000        3096.000000   \n",
       "mean                                         0.144380          11.604780   \n",
       "std                                          0.751189           2.665833   \n",
       "min                                          0.000000           7.600000   \n",
       "25%                                          0.000000           9.400000   \n",
       "50%                                          0.000000          11.100000   \n",
       "75%                                          0.000000          13.900000   \n",
       "max                                         12.000000          16.200000   \n",
       "\n",
       "       Inflation rate          GDP  \n",
       "count     3096.000000  3096.000000  \n",
       "mean         1.217862    -0.016631  \n",
       "std          1.378021     2.275456  \n",
       "min         -0.800000    -4.060000  \n",
       "25%          0.300000    -1.700000  \n",
       "50%          1.400000     0.320000  \n",
       "75%          2.600000     1.790000  \n",
       "max          3.700000     3.510000  \n",
       "\n",
       "[8 rows x 34 columns]"
      ]
     },
     "execution_count": 316,
     "metadata": {},
     "output_type": "execute_result"
    }
   ],
   "source": [
    "#como se distribuyen las variables \n",
    "train_df.describe()"
   ]
  },
  {
   "cell_type": "code",
   "execution_count": 317,
   "id": "7ffdd4d7-6be6-438a-b3e9-cadd2256dfaf",
   "metadata": {
    "tags": []
   },
   "outputs": [
    {
     "data": {
      "text/html": [
       "<div>\n",
       "<style scoped>\n",
       "    .dataframe tbody tr th:only-of-type {\n",
       "        vertical-align: middle;\n",
       "    }\n",
       "\n",
       "    .dataframe tbody tr th {\n",
       "        vertical-align: top;\n",
       "    }\n",
       "\n",
       "    .dataframe thead th {\n",
       "        text-align: right;\n",
       "    }\n",
       "</style>\n",
       "<table border=\"1\" class=\"dataframe\">\n",
       "  <thead>\n",
       "    <tr style=\"text-align: right;\">\n",
       "      <th></th>\n",
       "      <th>Target</th>\n",
       "    </tr>\n",
       "  </thead>\n",
       "  <tbody>\n",
       "    <tr>\n",
       "      <th>count</th>\n",
       "      <td>3096</td>\n",
       "    </tr>\n",
       "    <tr>\n",
       "      <th>unique</th>\n",
       "      <td>3</td>\n",
       "    </tr>\n",
       "    <tr>\n",
       "      <th>top</th>\n",
       "      <td>Graduate</td>\n",
       "    </tr>\n",
       "    <tr>\n",
       "      <th>freq</th>\n",
       "      <td>1558</td>\n",
       "    </tr>\n",
       "  </tbody>\n",
       "</table>\n",
       "</div>"
      ],
      "text/plain": [
       "          Target\n",
       "count       3096\n",
       "unique         3\n",
       "top     Graduate\n",
       "freq        1558"
      ]
     },
     "execution_count": 317,
     "metadata": {},
     "output_type": "execute_result"
    }
   ],
   "source": [
    "#como se comportan las variables categoricas\n",
    "train_df.describe(include=['O'])"
   ]
  },
  {
   "cell_type": "markdown",
   "id": "26644df0-4676-4dc0-ad71-471782378075",
   "metadata": {},
   "source": [
    "## Limpieza de datos"
   ]
  },
  {
   "cell_type": "markdown",
   "id": "599f3a5c-c6e6-4ec2-a076-236f9d5fcbdc",
   "metadata": {
    "tags": []
   },
   "source": [
    "### Datos nulos"
   ]
  },
  {
   "cell_type": "code",
   "execution_count": 318,
   "id": "1d5110d8-90f3-4adc-81c7-e93634804e4a",
   "metadata": {
    "tags": []
   },
   "outputs": [
    {
     "data": {
      "text/plain": [
       "Marital status                                    0\n",
       "Application mode                                  0\n",
       "Application order                                 0\n",
       "Course                                            0\n",
       "Daytime/evening attendance                        0\n",
       "Previous qualification                            0\n",
       "Nacionality                                       0\n",
       "Mother's qualification                            0\n",
       "Father's qualification                            0\n",
       "Mother's occupation                               0\n",
       "Father's occupation                               0\n",
       "Displaced                                         0\n",
       "Educational special needs                         0\n",
       "Debtor                                            0\n",
       "Tuition fees up to date                           0\n",
       "Gender                                            0\n",
       "Scholarship holder                                0\n",
       "Age at enrollment                                 0\n",
       "International                                     0\n",
       "Curricular units 1st sem (credited)               0\n",
       "Curricular units 1st sem (enrolled)               0\n",
       "Curricular units 1st sem (evaluations)            0\n",
       "Curricular units 1st sem (approved)               0\n",
       "Curricular units 1st sem (grade)                  0\n",
       "Curricular units 1st sem (without evaluations)    0\n",
       "Curricular units 2nd sem (credited)               0\n",
       "Curricular units 2nd sem (enrolled)               0\n",
       "Curricular units 2nd sem (evaluations)            0\n",
       "Curricular units 2nd sem (approved)               0\n",
       "Curricular units 2nd sem (grade)                  0\n",
       "Curricular units 2nd sem (without evaluations)    0\n",
       "Unemployment rate                                 0\n",
       "Inflation rate                                    0\n",
       "GDP                                               0\n",
       "Target                                            0\n",
       "dtype: int64"
      ]
     },
     "execution_count": 318,
     "metadata": {},
     "output_type": "execute_result"
    }
   ],
   "source": [
    "train_df.isna().sum()"
   ]
  },
  {
   "cell_type": "code",
   "execution_count": 319,
   "id": "22140c78-6b7f-470f-bd86-8c7bc26824a5",
   "metadata": {
    "tags": []
   },
   "outputs": [
    {
     "data": {
      "text/plain": [
       "0"
      ]
     },
     "execution_count": 319,
     "metadata": {},
     "output_type": "execute_result"
    }
   ],
   "source": [
    "train_df.duplicated().sum()"
   ]
  },
  {
   "cell_type": "code",
   "execution_count": 320,
   "id": "658b0a79-3a64-48ce-b9d4-2ca32089bbcd",
   "metadata": {
    "tags": []
   },
   "outputs": [
    {
     "name": "stdout",
     "output_type": "stream",
     "text": [
      "<class 'pandas.core.frame.DataFrame'>\n",
      "Int64Index: 3096 entries, 1607 to 242\n",
      "Data columns (total 35 columns):\n",
      " #   Column                                          Non-Null Count  Dtype  \n",
      "---  ------                                          --------------  -----  \n",
      " 0   Marital status                                  3096 non-null   int64  \n",
      " 1   Application mode                                3096 non-null   int64  \n",
      " 2   Application order                               3096 non-null   int64  \n",
      " 3   Course                                          3096 non-null   int64  \n",
      " 4   Daytime/evening attendance                      3096 non-null   int64  \n",
      " 5   Previous qualification                          3096 non-null   int64  \n",
      " 6   Nacionality                                     3096 non-null   int64  \n",
      " 7   Mother's qualification                          3096 non-null   int64  \n",
      " 8   Father's qualification                          3096 non-null   int64  \n",
      " 9   Mother's occupation                             3096 non-null   int64  \n",
      " 10  Father's occupation                             3096 non-null   int64  \n",
      " 11  Displaced                                       3096 non-null   int64  \n",
      " 12  Educational special needs                       3096 non-null   int64  \n",
      " 13  Debtor                                          3096 non-null   int64  \n",
      " 14  Tuition fees up to date                         3096 non-null   int64  \n",
      " 15  Gender                                          3096 non-null   int64  \n",
      " 16  Scholarship holder                              3096 non-null   int64  \n",
      " 17  Age at enrollment                               3096 non-null   int64  \n",
      " 18  International                                   3096 non-null   int64  \n",
      " 19  Curricular units 1st sem (credited)             3096 non-null   int64  \n",
      " 20  Curricular units 1st sem (enrolled)             3096 non-null   int64  \n",
      " 21  Curricular units 1st sem (evaluations)          3096 non-null   int64  \n",
      " 22  Curricular units 1st sem (approved)             3096 non-null   int64  \n",
      " 23  Curricular units 1st sem (grade)                3096 non-null   float64\n",
      " 24  Curricular units 1st sem (without evaluations)  3096 non-null   int64  \n",
      " 25  Curricular units 2nd sem (credited)             3096 non-null   int64  \n",
      " 26  Curricular units 2nd sem (enrolled)             3096 non-null   int64  \n",
      " 27  Curricular units 2nd sem (evaluations)          3096 non-null   int64  \n",
      " 28  Curricular units 2nd sem (approved)             3096 non-null   int64  \n",
      " 29  Curricular units 2nd sem (grade)                3096 non-null   float64\n",
      " 30  Curricular units 2nd sem (without evaluations)  3096 non-null   int64  \n",
      " 31  Unemployment rate                               3096 non-null   float64\n",
      " 32  Inflation rate                                  3096 non-null   float64\n",
      " 33  GDP                                             3096 non-null   float64\n",
      " 34  Target                                          3096 non-null   object \n",
      "dtypes: float64(5), int64(29), object(1)\n",
      "memory usage: 870.8+ KB\n"
     ]
    }
   ],
   "source": [
    "train_df.info()"
   ]
  },
  {
   "cell_type": "markdown",
   "id": "ae67cdd7-5c66-400c-a2d9-ce2d1dddf0b1",
   "metadata": {
    "tags": []
   },
   "source": [
    "## Estudio de las variables"
   ]
  },
  {
   "cell_type": "code",
   "execution_count": 321,
   "id": "c255a315-2446-406e-ac81-995eed61207a",
   "metadata": {
    "tags": []
   },
   "outputs": [],
   "source": [
    "import seaborn as sns"
   ]
  },
  {
   "cell_type": "code",
   "execution_count": 322,
   "id": "2bb2e6d0-f5e3-4210-8836-136396915e1c",
   "metadata": {
    "tags": []
   },
   "outputs": [
    {
     "data": {
      "text/plain": [
       "Graduate    1558\n",
       "Dropout      983\n",
       "Enrolled     555\n",
       "Name: Target, dtype: int64"
      ]
     },
     "execution_count": 322,
     "metadata": {},
     "output_type": "execute_result"
    }
   ],
   "source": [
    "train_df['Target'].value_counts()"
   ]
  },
  {
   "cell_type": "code",
   "execution_count": 324,
   "id": "51e149e0-12ff-49cf-8c82-c88ea531af60",
   "metadata": {
    "tags": []
   },
   "outputs": [
    {
     "data": {
      "image/png": "[encoded data removed]",
      "text/plain": [
       "<Figure size 640x480 with 1 Axes>"
      ]
     },
     "metadata": {},
     "output_type": "display_data"
    }
   ],
   "source": [
    "# Género que influye en el éxito académico\n",
    "sns.countplot(data=train_df, x='Gender', hue='Target', hue_order=['Dropout', 'Enrolled', 'Graduate'])\n",
    "plt.xticks(ticks=[0,1], labels=['Female','Male'])\n",
    "plt.ylabel('Número de estudiantes')\n",
    "plt.show()"
   ]
  },
  {
   "cell_type": "markdown",
   "id": "f843ed0c-4443-48a1-bf91-b181576da862",
   "metadata": {
    "tags": []
   },
   "source": [
    "Según la data las mujeres tienen mayor cantidad de graduados en comparación con los hombres."
   ]
  },
  {
   "cell_type": "code",
   "execution_count": 325,
   "id": "d8d890e7-cbde-4d1a-bf75-44cf22e55c97",
   "metadata": {
    "tags": []
   },
   "outputs": [
    {
     "data": {
      "text/plain": [
       "Gender\n",
       "0    2026\n",
       "1    1070\n",
       "Name: Target, dtype: int64"
      ]
     },
     "execution_count": 325,
     "metadata": {},
     "output_type": "execute_result"
    }
   ],
   "source": [
    "train_df.groupby(['Gender']).count()['Target']"
   ]
  },
  {
   "cell_type": "code",
   "execution_count": 326,
   "id": "4beecbc6-aaee-43fa-bec6-4f3c7dbc65e0",
   "metadata": {
    "tags": []
   },
   "outputs": [
    {
     "data": {
      "text/plain": [
       "<Axes: ylabel='Course'>"
      ]
     },
     "execution_count": 326,
     "metadata": {},
     "output_type": "execute_result"
    },
    {
     "data": {
      "image/png": "[encoded data removed]",
      "text/plain": [
       "<Figure size 640x480 with 1 Axes>"
      ]
     },
     "metadata": {},
     "output_type": "display_data"
    }
   ],
   "source": [
    "student_course=train_df.groupby(['Course', 'Target']).size().reset_index().pivot(columns='Target', index='Course', values=0)\n",
    "\n",
    "#Cambiamos el nombre del dataFrame\n",
    "student_course = student_course.rename(index={\n",
    "    1:'Alimentos',\n",
    "    2:'Arquitectura',\n",
    "    3:'Biología',\n",
    "    4:'Comunicación',\n",
    "    5:'Derecho',\n",
    "    6:'Economía',\n",
    "    7:'Software',\n",
    "    8:'Sistemas de información',\n",
    "    9:'Contabilidad y auditoría',\n",
    "    10:'Finanzas',\n",
    "    11:'Economía Internacional',\n",
    "    12:'Gestión de la información gerencial',\n",
    "    13:'Odontología',\n",
    "    14:'Mercadotecnia',\n",
    "    15:'Publicidad',\n",
    "    16:'Educación basica',\n",
    "    17:'Sociología'})\n",
    "\n",
    "student_course_total = student_course.sum(axis=1)\n",
    "student_course_sorted = student_course_total.sort_values(ascending=True)\n",
    "student_course.loc[student_course_sorted.index].plot(kind='barh', stacked=True)"
   ]
  },
  {
   "cell_type": "markdown",
   "id": "05f7383d-0b52-4e62-bfbd-d4a91f52471e",
   "metadata": {},
   "source": [
    "El curso de Gestión de la Información Gerencial tuvo mayor número de personas graduadas, mientras que el curso de contabilidad generó el mayor número de abandonos. "
   ]
  },
  {
   "cell_type": "code",
   "execution_count": 327,
   "id": "fb13c86d-725b-4683-a455-ea347c0b4a6f",
   "metadata": {
    "tags": []
   },
   "outputs": [
    {
     "data": {
      "image/png": "[encoded data removed]",
      "text/plain": [
       "<Figure size 1000x400 with 1 Axes>"
      ]
     },
     "metadata": {},
     "output_type": "display_data"
    }
   ],
   "source": [
    "# Estado civil que influye en el éxito academico\n",
    "pd.crosstab(train_df[\"Marital status\"], train_df[\"Target\"], normalize='index').plot(kind=\"bar\", figsize=(10,4), title=\"Estado civil y el éxito académico\" )\n",
    "plt.xticks(ticks=[0, 1, 2, 3, 4, 5], labels=['Soltero', 'Casado', 'Viudo', 'Divorciado', 'Union de hecho', 'Legalmente separado'])\n",
    "\n",
    "plt.xlabel('Estado Civil')\n",
    "plt.ylabel('Número de estudianes')\n",
    "plt.legend(loc=9)\n",
    "plt.show()"
   ]
  },
  {
   "cell_type": "code",
   "execution_count": 328,
   "id": "ed1b72c5-bd18-4ca9-823c-c65ff879a76c",
   "metadata": {
    "tags": []
   },
   "outputs": [
    {
     "data": {
      "image/png": "[encoded data removed]",
      "text/plain": [
       "<Figure size 500x500 with 1 Axes>"
      ]
     },
     "metadata": {},
     "output_type": "display_data"
    }
   ],
   "source": [
    "# Edad de inscripción que influye en el éxito académico\n",
    "sns.displot(data=train_df, x='Age at enrollment', kde=True)\n",
    "train_df['Age at enrollment'].describe()\n",
    "\n",
    "plt.xlabel('Edad de inscripción')\n",
    "plt.ylabel('Número de estudiantes')\n",
    "plt.show()"
   ]
  },
  {
   "cell_type": "markdown",
   "id": "fdd8e967-f7e0-4032-8fc1-32a4ec0544a0",
   "metadata": {},
   "source": [
    "La mayoría de estudiantes matriculados tiene aproximadamente la edad de 20 años. "
   ]
  },
  {
   "cell_type": "code",
   "execution_count": 329,
   "id": "d151dea2-1f41-4ab5-b9f0-8248d7cbc78d",
   "metadata": {
    "tags": []
   },
   "outputs": [
    {
     "data": {
      "image/png": "[encoded data removed]",
      "text/plain": [
       "<Figure size 640x480 with 1 Axes>"
      ]
     },
     "metadata": {},
     "output_type": "display_data"
    }
   ],
   "source": [
    "# Estudiantes con becas y el éxito académico\n",
    "sns.countplot(data=train_df, x=\"Scholarship holder\", hue='Target', hue_order=['Dropout', 'Enrolled', 'Graduate'])\n",
    "\n",
    "plt.xticks(ticks=[0,1], labels=['No','Yes'])\n",
    "plt.xlabel('Estudiantes con becas')\n",
    "plt.ylabel('Numero de estudiantes')\n",
    "plt.show()"
   ]
  },
  {
   "cell_type": "markdown",
   "id": "8f91bfe1-604e-4e6b-b937-dae54fa4ffdc",
   "metadata": {},
   "source": [
    "# Procesamiento de datos"
   ]
  },
  {
   "cell_type": "markdown",
   "id": "c31c1d7f-db8f-4235-9c4b-6d259da65b4d",
   "metadata": {},
   "source": [
    "Seleccionamos las variables con las que vamos a trabajar\n",
    "1. Target\n",
    "2. Gender\n",
    "3. Course \n",
    "4. Marital status\n",
    "5. Age at enrollment\n",
    "6. Scholarship holder"
   ]
  },
  {
   "cell_type": "code",
   "execution_count": 330,
   "id": "39c33dc5-850a-487b-ae91-20fd96ae1414",
   "metadata": {
    "tags": []
   },
   "outputs": [
    {
     "data": {
      "text/html": [
       "<div>\n",
       "<style scoped>\n",
       "    .dataframe tbody tr th:only-of-type {\n",
       "        vertical-align: middle;\n",
       "    }\n",
       "\n",
       "    .dataframe tbody tr th {\n",
       "        vertical-align: top;\n",
       "    }\n",
       "\n",
       "    .dataframe thead th {\n",
       "        text-align: right;\n",
       "    }\n",
       "</style>\n",
       "<table border=\"1\" class=\"dataframe\">\n",
       "  <thead>\n",
       "    <tr style=\"text-align: right;\">\n",
       "      <th></th>\n",
       "      <th>Target</th>\n",
       "      <th>Gender</th>\n",
       "      <th>Course</th>\n",
       "      <th>Marital status</th>\n",
       "      <th>Age at enrollment</th>\n",
       "      <th>Scholarship holder</th>\n",
       "    </tr>\n",
       "  </thead>\n",
       "  <tbody>\n",
       "    <tr>\n",
       "      <th>1607</th>\n",
       "      <td>Graduate</td>\n",
       "      <td>1</td>\n",
       "      <td>12</td>\n",
       "      <td>1</td>\n",
       "      <td>18</td>\n",
       "      <td>0</td>\n",
       "    </tr>\n",
       "    <tr>\n",
       "      <th>633</th>\n",
       "      <td>Graduate</td>\n",
       "      <td>0</td>\n",
       "      <td>13</td>\n",
       "      <td>1</td>\n",
       "      <td>24</td>\n",
       "      <td>1</td>\n",
       "    </tr>\n",
       "    <tr>\n",
       "      <th>4274</th>\n",
       "      <td>Enrolled</td>\n",
       "      <td>1</td>\n",
       "      <td>11</td>\n",
       "      <td>1</td>\n",
       "      <td>25</td>\n",
       "      <td>0</td>\n",
       "    </tr>\n",
       "    <tr>\n",
       "      <th>4173</th>\n",
       "      <td>Graduate</td>\n",
       "      <td>0</td>\n",
       "      <td>12</td>\n",
       "      <td>1</td>\n",
       "      <td>20</td>\n",
       "      <td>1</td>\n",
       "    </tr>\n",
       "    <tr>\n",
       "      <th>2581</th>\n",
       "      <td>Dropout</td>\n",
       "      <td>0</td>\n",
       "      <td>4</td>\n",
       "      <td>1</td>\n",
       "      <td>27</td>\n",
       "      <td>0</td>\n",
       "    </tr>\n",
       "    <tr>\n",
       "      <th>301</th>\n",
       "      <td>Graduate</td>\n",
       "      <td>0</td>\n",
       "      <td>6</td>\n",
       "      <td>1</td>\n",
       "      <td>21</td>\n",
       "      <td>1</td>\n",
       "    </tr>\n",
       "    <tr>\n",
       "      <th>3115</th>\n",
       "      <td>Graduate</td>\n",
       "      <td>0</td>\n",
       "      <td>10</td>\n",
       "      <td>1</td>\n",
       "      <td>19</td>\n",
       "      <td>1</td>\n",
       "    </tr>\n",
       "    <tr>\n",
       "      <th>140</th>\n",
       "      <td>Graduate</td>\n",
       "      <td>0</td>\n",
       "      <td>12</td>\n",
       "      <td>1</td>\n",
       "      <td>19</td>\n",
       "      <td>0</td>\n",
       "    </tr>\n",
       "    <tr>\n",
       "      <th>1136</th>\n",
       "      <td>Graduate</td>\n",
       "      <td>0</td>\n",
       "      <td>5</td>\n",
       "      <td>1</td>\n",
       "      <td>18</td>\n",
       "      <td>1</td>\n",
       "    </tr>\n",
       "    <tr>\n",
       "      <th>2184</th>\n",
       "      <td>Enrolled</td>\n",
       "      <td>0</td>\n",
       "      <td>10</td>\n",
       "      <td>1</td>\n",
       "      <td>19</td>\n",
       "      <td>0</td>\n",
       "    </tr>\n",
       "    <tr>\n",
       "      <th>1423</th>\n",
       "      <td>Graduate</td>\n",
       "      <td>0</td>\n",
       "      <td>11</td>\n",
       "      <td>1</td>\n",
       "      <td>18</td>\n",
       "      <td>0</td>\n",
       "    </tr>\n",
       "    <tr>\n",
       "      <th>465</th>\n",
       "      <td>Dropout</td>\n",
       "      <td>0</td>\n",
       "      <td>3</td>\n",
       "      <td>1</td>\n",
       "      <td>27</td>\n",
       "      <td>0</td>\n",
       "    </tr>\n",
       "    <tr>\n",
       "      <th>2779</th>\n",
       "      <td>Graduate</td>\n",
       "      <td>0</td>\n",
       "      <td>10</td>\n",
       "      <td>1</td>\n",
       "      <td>21</td>\n",
       "      <td>1</td>\n",
       "    </tr>\n",
       "    <tr>\n",
       "      <th>540</th>\n",
       "      <td>Graduate</td>\n",
       "      <td>1</td>\n",
       "      <td>12</td>\n",
       "      <td>1</td>\n",
       "      <td>28</td>\n",
       "      <td>0</td>\n",
       "    </tr>\n",
       "    <tr>\n",
       "      <th>790</th>\n",
       "      <td>Graduate</td>\n",
       "      <td>0</td>\n",
       "      <td>15</td>\n",
       "      <td>1</td>\n",
       "      <td>19</td>\n",
       "      <td>1</td>\n",
       "    </tr>\n",
       "    <tr>\n",
       "      <th>2512</th>\n",
       "      <td>Graduate</td>\n",
       "      <td>0</td>\n",
       "      <td>12</td>\n",
       "      <td>1</td>\n",
       "      <td>19</td>\n",
       "      <td>0</td>\n",
       "    </tr>\n",
       "    <tr>\n",
       "      <th>4232</th>\n",
       "      <td>Dropout</td>\n",
       "      <td>0</td>\n",
       "      <td>14</td>\n",
       "      <td>1</td>\n",
       "      <td>19</td>\n",
       "      <td>0</td>\n",
       "    </tr>\n",
       "    <tr>\n",
       "      <th>2887</th>\n",
       "      <td>Graduate</td>\n",
       "      <td>0</td>\n",
       "      <td>16</td>\n",
       "      <td>1</td>\n",
       "      <td>18</td>\n",
       "      <td>1</td>\n",
       "    </tr>\n",
       "    <tr>\n",
       "      <th>2743</th>\n",
       "      <td>Graduate</td>\n",
       "      <td>0</td>\n",
       "      <td>10</td>\n",
       "      <td>1</td>\n",
       "      <td>20</td>\n",
       "      <td>1</td>\n",
       "    </tr>\n",
       "    <tr>\n",
       "      <th>204</th>\n",
       "      <td>Graduate</td>\n",
       "      <td>0</td>\n",
       "      <td>10</td>\n",
       "      <td>1</td>\n",
       "      <td>18</td>\n",
       "      <td>1</td>\n",
       "    </tr>\n",
       "  </tbody>\n",
       "</table>\n",
       "</div>"
      ],
      "text/plain": [
       "        Target  Gender  Course  Marital status  Age at enrollment  \\\n",
       "1607  Graduate       1      12               1                 18   \n",
       "633   Graduate       0      13               1                 24   \n",
       "4274  Enrolled       1      11               1                 25   \n",
       "4173  Graduate       0      12               1                 20   \n",
       "2581   Dropout       0       4               1                 27   \n",
       "301   Graduate       0       6               1                 21   \n",
       "3115  Graduate       0      10               1                 19   \n",
       "140   Graduate       0      12               1                 19   \n",
       "1136  Graduate       0       5               1                 18   \n",
       "2184  Enrolled       0      10               1                 19   \n",
       "1423  Graduate       0      11               1                 18   \n",
       "465    Dropout       0       3               1                 27   \n",
       "2779  Graduate       0      10               1                 21   \n",
       "540   Graduate       1      12               1                 28   \n",
       "790   Graduate       0      15               1                 19   \n",
       "2512  Graduate       0      12               1                 19   \n",
       "4232   Dropout       0      14               1                 19   \n",
       "2887  Graduate       0      16               1                 18   \n",
       "2743  Graduate       0      10               1                 20   \n",
       "204   Graduate       0      10               1                 18   \n",
       "\n",
       "      Scholarship holder  \n",
       "1607                   0  \n",
       "633                    1  \n",
       "4274                   0  \n",
       "4173                   1  \n",
       "2581                   0  \n",
       "301                    1  \n",
       "3115                   1  \n",
       "140                    0  \n",
       "1136                   1  \n",
       "2184                   0  \n",
       "1423                   0  \n",
       "465                    0  \n",
       "2779                   1  \n",
       "540                    0  \n",
       "790                    1  \n",
       "2512                   0  \n",
       "4232                   0  \n",
       "2887                   1  \n",
       "2743                   1  \n",
       "204                    1  "
      ]
     },
     "execution_count": 330,
     "metadata": {},
     "output_type": "execute_result"
    }
   ],
   "source": [
    "train_df[['Target','Gender','Course','Marital status','Age at enrollment','Scholarship holder']].head(20)"
   ]
  },
  {
   "cell_type": "code",
   "execution_count": 331,
   "id": "41e905ac-c371-4cff-a1f6-fd456fec2ed3",
   "metadata": {
    "tags": []
   },
   "outputs": [
    {
     "name": "stdout",
     "output_type": "stream",
     "text": [
      "<class 'pandas.core.frame.DataFrame'>\n",
      "Int64Index: 3096 entries, 1607 to 242\n",
      "Data columns (total 6 columns):\n",
      " #   Column              Non-Null Count  Dtype \n",
      "---  ------              --------------  ----- \n",
      " 0   Target              3096 non-null   object\n",
      " 1   Gender              3096 non-null   int64 \n",
      " 2   Course              3096 non-null   int64 \n",
      " 3   Marital status      3096 non-null   int64 \n",
      " 4   Age at enrollment   3096 non-null   int64 \n",
      " 5   Scholarship holder  3096 non-null   int64 \n",
      "dtypes: int64(5), object(1)\n",
      "memory usage: 233.9+ KB\n"
     ]
    }
   ],
   "source": [
    "train_df[['Target','Gender','Course','Marital status','Age at enrollment','Scholarship holder']].info()"
   ]
  },
  {
   "cell_type": "code",
   "execution_count": 333,
   "id": "e91376fd-c545-4d21-acc3-dff656052049",
   "metadata": {
    "tags": []
   },
   "outputs": [],
   "source": [
    "train_df=train_df[train_df.Target!='Enrolled']"
   ]
  },
  {
   "cell_type": "code",
   "execution_count": 334,
   "id": "510741e9-b690-4cce-8d34-2546bfc85c36",
   "metadata": {
    "tags": []
   },
   "outputs": [],
   "source": [
    "# map para label encoding\n",
    "train_df['Target'] = train_df['Target'].map({'Graduate': 0, 'Dropout': 1}).astype(int)"
   ]
  },
  {
   "cell_type": "code",
   "execution_count": 335,
   "id": "b7d85b9d-e5d0-409f-9cf3-5d859a02af6c",
   "metadata": {
    "tags": []
   },
   "outputs": [
    {
     "data": {
      "text/plain": [
       "0    1558\n",
       "1     983\n",
       "Name: Target, dtype: int64"
      ]
     },
     "execution_count": 335,
     "metadata": {},
     "output_type": "execute_result"
    }
   ],
   "source": [
    "train_df['Target'].value_counts()"
   ]
  },
  {
   "cell_type": "code",
   "execution_count": 336,
   "id": "c329e270-8674-4331-b30f-33cb8d05a579",
   "metadata": {
    "tags": []
   },
   "outputs": [
    {
     "data": {
      "text/html": [
       "<div>\n",
       "<style scoped>\n",
       "    .dataframe tbody tr th:only-of-type {\n",
       "        vertical-align: middle;\n",
       "    }\n",
       "\n",
       "    .dataframe tbody tr th {\n",
       "        vertical-align: top;\n",
       "    }\n",
       "\n",
       "    .dataframe thead th {\n",
       "        text-align: right;\n",
       "    }\n",
       "</style>\n",
       "<table border=\"1\" class=\"dataframe\">\n",
       "  <thead>\n",
       "    <tr style=\"text-align: right;\">\n",
       "      <th></th>\n",
       "      <th>Target</th>\n",
       "      <th>Gender</th>\n",
       "      <th>Course</th>\n",
       "      <th>Marital status</th>\n",
       "      <th>Age at enrollment</th>\n",
       "      <th>Scholarship holder</th>\n",
       "    </tr>\n",
       "  </thead>\n",
       "  <tbody>\n",
       "    <tr>\n",
       "      <th>1607</th>\n",
       "      <td>0</td>\n",
       "      <td>1</td>\n",
       "      <td>12</td>\n",
       "      <td>1</td>\n",
       "      <td>18</td>\n",
       "      <td>0</td>\n",
       "    </tr>\n",
       "    <tr>\n",
       "      <th>633</th>\n",
       "      <td>0</td>\n",
       "      <td>0</td>\n",
       "      <td>13</td>\n",
       "      <td>1</td>\n",
       "      <td>24</td>\n",
       "      <td>1</td>\n",
       "    </tr>\n",
       "    <tr>\n",
       "      <th>4173</th>\n",
       "      <td>0</td>\n",
       "      <td>0</td>\n",
       "      <td>12</td>\n",
       "      <td>1</td>\n",
       "      <td>20</td>\n",
       "      <td>1</td>\n",
       "    </tr>\n",
       "    <tr>\n",
       "      <th>2581</th>\n",
       "      <td>1</td>\n",
       "      <td>0</td>\n",
       "      <td>4</td>\n",
       "      <td>1</td>\n",
       "      <td>27</td>\n",
       "      <td>0</td>\n",
       "    </tr>\n",
       "    <tr>\n",
       "      <th>301</th>\n",
       "      <td>0</td>\n",
       "      <td>0</td>\n",
       "      <td>6</td>\n",
       "      <td>1</td>\n",
       "      <td>21</td>\n",
       "      <td>1</td>\n",
       "    </tr>\n",
       "    <tr>\n",
       "      <th>3115</th>\n",
       "      <td>0</td>\n",
       "      <td>0</td>\n",
       "      <td>10</td>\n",
       "      <td>1</td>\n",
       "      <td>19</td>\n",
       "      <td>1</td>\n",
       "    </tr>\n",
       "    <tr>\n",
       "      <th>140</th>\n",
       "      <td>0</td>\n",
       "      <td>0</td>\n",
       "      <td>12</td>\n",
       "      <td>1</td>\n",
       "      <td>19</td>\n",
       "      <td>0</td>\n",
       "    </tr>\n",
       "    <tr>\n",
       "      <th>1136</th>\n",
       "      <td>0</td>\n",
       "      <td>0</td>\n",
       "      <td>5</td>\n",
       "      <td>1</td>\n",
       "      <td>18</td>\n",
       "      <td>1</td>\n",
       "    </tr>\n",
       "    <tr>\n",
       "      <th>1423</th>\n",
       "      <td>0</td>\n",
       "      <td>0</td>\n",
       "      <td>11</td>\n",
       "      <td>1</td>\n",
       "      <td>18</td>\n",
       "      <td>0</td>\n",
       "    </tr>\n",
       "    <tr>\n",
       "      <th>465</th>\n",
       "      <td>1</td>\n",
       "      <td>0</td>\n",
       "      <td>3</td>\n",
       "      <td>1</td>\n",
       "      <td>27</td>\n",
       "      <td>0</td>\n",
       "    </tr>\n",
       "    <tr>\n",
       "      <th>2779</th>\n",
       "      <td>0</td>\n",
       "      <td>0</td>\n",
       "      <td>10</td>\n",
       "      <td>1</td>\n",
       "      <td>21</td>\n",
       "      <td>1</td>\n",
       "    </tr>\n",
       "    <tr>\n",
       "      <th>540</th>\n",
       "      <td>0</td>\n",
       "      <td>1</td>\n",
       "      <td>12</td>\n",
       "      <td>1</td>\n",
       "      <td>28</td>\n",
       "      <td>0</td>\n",
       "    </tr>\n",
       "    <tr>\n",
       "      <th>790</th>\n",
       "      <td>0</td>\n",
       "      <td>0</td>\n",
       "      <td>15</td>\n",
       "      <td>1</td>\n",
       "      <td>19</td>\n",
       "      <td>1</td>\n",
       "    </tr>\n",
       "    <tr>\n",
       "      <th>2512</th>\n",
       "      <td>0</td>\n",
       "      <td>0</td>\n",
       "      <td>12</td>\n",
       "      <td>1</td>\n",
       "      <td>19</td>\n",
       "      <td>0</td>\n",
       "    </tr>\n",
       "    <tr>\n",
       "      <th>4232</th>\n",
       "      <td>1</td>\n",
       "      <td>0</td>\n",
       "      <td>14</td>\n",
       "      <td>1</td>\n",
       "      <td>19</td>\n",
       "      <td>0</td>\n",
       "    </tr>\n",
       "    <tr>\n",
       "      <th>2887</th>\n",
       "      <td>0</td>\n",
       "      <td>0</td>\n",
       "      <td>16</td>\n",
       "      <td>1</td>\n",
       "      <td>18</td>\n",
       "      <td>1</td>\n",
       "    </tr>\n",
       "    <tr>\n",
       "      <th>2743</th>\n",
       "      <td>0</td>\n",
       "      <td>0</td>\n",
       "      <td>10</td>\n",
       "      <td>1</td>\n",
       "      <td>20</td>\n",
       "      <td>1</td>\n",
       "    </tr>\n",
       "    <tr>\n",
       "      <th>204</th>\n",
       "      <td>0</td>\n",
       "      <td>0</td>\n",
       "      <td>10</td>\n",
       "      <td>1</td>\n",
       "      <td>18</td>\n",
       "      <td>1</td>\n",
       "    </tr>\n",
       "    <tr>\n",
       "      <th>1997</th>\n",
       "      <td>0</td>\n",
       "      <td>0</td>\n",
       "      <td>15</td>\n",
       "      <td>1</td>\n",
       "      <td>18</td>\n",
       "      <td>0</td>\n",
       "    </tr>\n",
       "    <tr>\n",
       "      <th>4233</th>\n",
       "      <td>0</td>\n",
       "      <td>0</td>\n",
       "      <td>12</td>\n",
       "      <td>1</td>\n",
       "      <td>19</td>\n",
       "      <td>0</td>\n",
       "    </tr>\n",
       "  </tbody>\n",
       "</table>\n",
       "</div>"
      ],
      "text/plain": [
       "      Target  Gender  Course  Marital status  Age at enrollment  \\\n",
       "1607       0       1      12               1                 18   \n",
       "633        0       0      13               1                 24   \n",
       "4173       0       0      12               1                 20   \n",
       "2581       1       0       4               1                 27   \n",
       "301        0       0       6               1                 21   \n",
       "3115       0       0      10               1                 19   \n",
       "140        0       0      12               1                 19   \n",
       "1136       0       0       5               1                 18   \n",
       "1423       0       0      11               1                 18   \n",
       "465        1       0       3               1                 27   \n",
       "2779       0       0      10               1                 21   \n",
       "540        0       1      12               1                 28   \n",
       "790        0       0      15               1                 19   \n",
       "2512       0       0      12               1                 19   \n",
       "4232       1       0      14               1                 19   \n",
       "2887       0       0      16               1                 18   \n",
       "2743       0       0      10               1                 20   \n",
       "204        0       0      10               1                 18   \n",
       "1997       0       0      15               1                 18   \n",
       "4233       0       0      12               1                 19   \n",
       "\n",
       "      Scholarship holder  \n",
       "1607                   0  \n",
       "633                    1  \n",
       "4173                   1  \n",
       "2581                   0  \n",
       "301                    1  \n",
       "3115                   1  \n",
       "140                    0  \n",
       "1136                   1  \n",
       "1423                   0  \n",
       "465                    0  \n",
       "2779                   1  \n",
       "540                    0  \n",
       "790                    1  \n",
       "2512                   0  \n",
       "4232                   0  \n",
       "2887                   1  \n",
       "2743                   1  \n",
       "204                    1  \n",
       "1997                   0  \n",
       "4233                   0  "
      ]
     },
     "execution_count": 336,
     "metadata": {},
     "output_type": "execute_result"
    }
   ],
   "source": [
    "train_df[['Target','Gender','Course','Marital status','Age at enrollment','Scholarship holder']].head(20)"
   ]
  },
  {
   "cell_type": "code",
   "execution_count": 337,
   "id": "58b72ea7-fc6b-4766-b0e0-0892a616fc39",
   "metadata": {
    "tags": []
   },
   "outputs": [
    {
     "name": "stdout",
     "output_type": "stream",
     "text": [
      "(2541,) (2541, 5)\n"
     ]
    }
   ],
   "source": [
    "#Variable dependiente \n",
    "Y_train_df = train_df['Target']\n",
    "\n",
    "# preprocesamiento de variables independientes\n",
    "features = ['Gender', 'Course','Marital status','Age at enrollment','Scholarship holder']\n",
    "X_train_df = train_df[features]\n",
    "\n",
    "print(Y_train_df.shape, X_train_df.shape)"
   ]
  },
  {
   "cell_type": "markdown",
   "id": "1ad96b97-5509-4226-846e-bbde9255520a",
   "metadata": {},
   "source": [
    "## Implementación de modelos Predicctivos"
   ]
  },
  {
   "cell_type": "code",
   "execution_count": 338,
   "id": "afa3e8ef-ba7c-419d-aea4-d8a7062251f5",
   "metadata": {
    "tags": []
   },
   "outputs": [
    {
     "data": {
      "text/html": [
       "<style>#sk-container-id-18 {color: black;background-color: white;}#sk-container-id-18 pre{padding: 0;}#sk-container-id-18 div.sk-toggleable {background-color: white;}#sk-container-id-18 label.sk-toggleable__label {cursor: pointer;display: block;width: 100%;margin-bottom: 0;padding: 0.3em;box-sizing: border-box;text-align: center;}#sk-container-id-18 label.sk-toggleable__label-arrow:before {content: \"▸\";float: left;margin-right: 0.25em;color: #696969;}#sk-container-id-18 label.sk-toggleable__label-arrow:hover:before {color: black;}#sk-container-id-18 div.sk-estimator:hover label.sk-toggleable__label-arrow:before {color: black;}#sk-container-id-18 div.sk-toggleable__content {max-height: 0;max-width: 0;overflow: hidden;text-align: left;background-color: #f0f8ff;}#sk-container-id-18 div.sk-toggleable__content pre {margin: 0.2em;color: black;border-radius: 0.25em;background-color: #f0f8ff;}#sk-container-id-18 input.sk-toggleable__control:checked~div.sk-toggleable__content {max-height: 200px;max-width: 100%;overflow: auto;}#sk-container-id-18 input.sk-toggleable__control:checked~label.sk-toggleable__label-arrow:before {content: \"▾\";}#sk-container-id-18 div.sk-estimator input.sk-toggleable__control:checked~label.sk-toggleable__label {background-color: #d4ebff;}#sk-container-id-18 div.sk-label input.sk-toggleable__control:checked~label.sk-toggleable__label {background-color: #d4ebff;}#sk-container-id-18 input.sk-hidden--visually {border: 0;clip: rect(1px 1px 1px 1px);clip: rect(1px, 1px, 1px, 1px);height: 1px;margin: -1px;overflow: hidden;padding: 0;position: absolute;width: 1px;}#sk-container-id-18 div.sk-estimator {font-family: monospace;background-color: #f0f8ff;border: 1px dotted black;border-radius: 0.25em;box-sizing: border-box;margin-bottom: 0.5em;}#sk-container-id-18 div.sk-estimator:hover {background-color: #d4ebff;}#sk-container-id-18 div.sk-parallel-item::after {content: \"\";width: 100%;border-bottom: 1px solid gray;flex-grow: 1;}#sk-container-id-18 div.sk-label:hover label.sk-toggleable__label {background-color: #d4ebff;}#sk-container-id-18 div.sk-serial::before {content: \"\";position: absolute;border-left: 1px solid gray;box-sizing: border-box;top: 0;bottom: 0;left: 50%;z-index: 0;}#sk-container-id-18 div.sk-serial {display: flex;flex-direction: column;align-items: center;background-color: white;padding-right: 0.2em;padding-left: 0.2em;position: relative;}#sk-container-id-18 div.sk-item {position: relative;z-index: 1;}#sk-container-id-18 div.sk-parallel {display: flex;align-items: stretch;justify-content: center;background-color: white;position: relative;}#sk-container-id-18 div.sk-item::before, #sk-container-id-18 div.sk-parallel-item::before {content: \"\";position: absolute;border-left: 1px solid gray;box-sizing: border-box;top: 0;bottom: 0;left: 50%;z-index: -1;}#sk-container-id-18 div.sk-parallel-item {display: flex;flex-direction: column;z-index: 1;position: relative;background-color: white;}#sk-container-id-18 div.sk-parallel-item:first-child::after {align-self: flex-end;width: 50%;}#sk-container-id-18 div.sk-parallel-item:last-child::after {align-self: flex-start;width: 50%;}#sk-container-id-18 div.sk-parallel-item:only-child::after {width: 0;}#sk-container-id-18 div.sk-dashed-wrapped {border: 1px dashed gray;margin: 0 0.4em 0.5em 0.4em;box-sizing: border-box;padding-bottom: 0.4em;background-color: white;}#sk-container-id-18 div.sk-label label {font-family: monospace;font-weight: bold;display: inline-block;line-height: 1.2em;}#sk-container-id-18 div.sk-label-container {text-align: center;}#sk-container-id-18 div.sk-container {/* jupyter's `normalize.less` sets `[hidden] { display: none; }` but bootstrap.min.css set `[hidden] { display: none !important; }` so we also need the `!important` here to be able to override the default hidden behavior on the sphinx rendered scikit-learn.org. See: https://github.com/scikit-learn/scikit-learn/issues/21755 */display: inline-block !important;position: relative;}#sk-container-id-18 div.sk-text-repr-fallback {display: none;}</style><div id=\"sk-container-id-18\" class=\"sk-top-container\"><div class=\"sk-text-repr-fallback\"><pre>LogisticRegression()</pre><b>In a Jupyter environment, please rerun this cell to show the HTML representation or trust the notebook. <br />On GitHub, the HTML representation is unable to render, please try loading this page with nbviewer.org.</b></div><div class=\"sk-container\" hidden><div class=\"sk-item\"><div class=\"sk-estimator sk-toggleable\"><input class=\"sk-toggleable__control sk-hidden--visually\" id=\"sk-estimator-id-18\" type=\"checkbox\" checked><label for=\"sk-estimator-id-18\" class=\"sk-toggleable__label sk-toggleable__label-arrow\">LogisticRegression</label><div class=\"sk-toggleable__content\"><pre>LogisticRegression()</pre></div></div></div></div></div>"
      ],
      "text/plain": [
       "LogisticRegression()"
      ]
     },
     "execution_count": 338,
     "metadata": {},
     "output_type": "execute_result"
    }
   ],
   "source": [
    "# entrenando modelo regresión logistica\n",
    "from sklearn.linear_model import LogisticRegression\n",
    "\n",
    "logreg = LogisticRegression()\n",
    "logreg.fit(X_train_df, Y_train_df)"
   ]
  },
  {
   "cell_type": "code",
   "execution_count": 339,
   "id": "934a7567-7b12-47c0-8791-675e4fdb114c",
   "metadata": {
    "tags": []
   },
   "outputs": [
    {
     "data": {
      "text/html": [
       "<style>#sk-container-id-19 {color: black;background-color: white;}#sk-container-id-19 pre{padding: 0;}#sk-container-id-19 div.sk-toggleable {background-color: white;}#sk-container-id-19 label.sk-toggleable__label {cursor: pointer;display: block;width: 100%;margin-bottom: 0;padding: 0.3em;box-sizing: border-box;text-align: center;}#sk-container-id-19 label.sk-toggleable__label-arrow:before {content: \"▸\";float: left;margin-right: 0.25em;color: #696969;}#sk-container-id-19 label.sk-toggleable__label-arrow:hover:before {color: black;}#sk-container-id-19 div.sk-estimator:hover label.sk-toggleable__label-arrow:before {color: black;}#sk-container-id-19 div.sk-toggleable__content {max-height: 0;max-width: 0;overflow: hidden;text-align: left;background-color: #f0f8ff;}#sk-container-id-19 div.sk-toggleable__content pre {margin: 0.2em;color: black;border-radius: 0.25em;background-color: #f0f8ff;}#sk-container-id-19 input.sk-toggleable__control:checked~div.sk-toggleable__content {max-height: 200px;max-width: 100%;overflow: auto;}#sk-container-id-19 input.sk-toggleable__control:checked~label.sk-toggleable__label-arrow:before {content: \"▾\";}#sk-container-id-19 div.sk-estimator input.sk-toggleable__control:checked~label.sk-toggleable__label {background-color: #d4ebff;}#sk-container-id-19 div.sk-label input.sk-toggleable__control:checked~label.sk-toggleable__label {background-color: #d4ebff;}#sk-container-id-19 input.sk-hidden--visually {border: 0;clip: rect(1px 1px 1px 1px);clip: rect(1px, 1px, 1px, 1px);height: 1px;margin: -1px;overflow: hidden;padding: 0;position: absolute;width: 1px;}#sk-container-id-19 div.sk-estimator {font-family: monospace;background-color: #f0f8ff;border: 1px dotted black;border-radius: 0.25em;box-sizing: border-box;margin-bottom: 0.5em;}#sk-container-id-19 div.sk-estimator:hover {background-color: #d4ebff;}#sk-container-id-19 div.sk-parallel-item::after {content: \"\";width: 100%;border-bottom: 1px solid gray;flex-grow: 1;}#sk-container-id-19 div.sk-label:hover label.sk-toggleable__label {background-color: #d4ebff;}#sk-container-id-19 div.sk-serial::before {content: \"\";position: absolute;border-left: 1px solid gray;box-sizing: border-box;top: 0;bottom: 0;left: 50%;z-index: 0;}#sk-container-id-19 div.sk-serial {display: flex;flex-direction: column;align-items: center;background-color: white;padding-right: 0.2em;padding-left: 0.2em;position: relative;}#sk-container-id-19 div.sk-item {position: relative;z-index: 1;}#sk-container-id-19 div.sk-parallel {display: flex;align-items: stretch;justify-content: center;background-color: white;position: relative;}#sk-container-id-19 div.sk-item::before, #sk-container-id-19 div.sk-parallel-item::before {content: \"\";position: absolute;border-left: 1px solid gray;box-sizing: border-box;top: 0;bottom: 0;left: 50%;z-index: -1;}#sk-container-id-19 div.sk-parallel-item {display: flex;flex-direction: column;z-index: 1;position: relative;background-color: white;}#sk-container-id-19 div.sk-parallel-item:first-child::after {align-self: flex-end;width: 50%;}#sk-container-id-19 div.sk-parallel-item:last-child::after {align-self: flex-start;width: 50%;}#sk-container-id-19 div.sk-parallel-item:only-child::after {width: 0;}#sk-container-id-19 div.sk-dashed-wrapped {border: 1px dashed gray;margin: 0 0.4em 0.5em 0.4em;box-sizing: border-box;padding-bottom: 0.4em;background-color: white;}#sk-container-id-19 div.sk-label label {font-family: monospace;font-weight: bold;display: inline-block;line-height: 1.2em;}#sk-container-id-19 div.sk-label-container {text-align: center;}#sk-container-id-19 div.sk-container {/* jupyter's `normalize.less` sets `[hidden] { display: none; }` but bootstrap.min.css set `[hidden] { display: none !important; }` so we also need the `!important` here to be able to override the default hidden behavior on the sphinx rendered scikit-learn.org. See: https://github.com/scikit-learn/scikit-learn/issues/21755 */display: inline-block !important;position: relative;}#sk-container-id-19 div.sk-text-repr-fallback {display: none;}</style><div id=\"sk-container-id-19\" class=\"sk-top-container\"><div class=\"sk-text-repr-fallback\"><pre>DecisionTreeClassifier()</pre><b>In a Jupyter environment, please rerun this cell to show the HTML representation or trust the notebook. <br />On GitHub, the HTML representation is unable to render, please try loading this page with nbviewer.org.</b></div><div class=\"sk-container\" hidden><div class=\"sk-item\"><div class=\"sk-estimator sk-toggleable\"><input class=\"sk-toggleable__control sk-hidden--visually\" id=\"sk-estimator-id-19\" type=\"checkbox\" checked><label for=\"sk-estimator-id-19\" class=\"sk-toggleable__label sk-toggleable__label-arrow\">DecisionTreeClassifier</label><div class=\"sk-toggleable__content\"><pre>DecisionTreeClassifier()</pre></div></div></div></div></div>"
      ],
      "text/plain": [
       "DecisionTreeClassifier()"
      ]
     },
     "execution_count": 339,
     "metadata": {},
     "output_type": "execute_result"
    }
   ],
   "source": [
    "# entrenando modelo arboles de decisión\n",
    "from sklearn.tree import DecisionTreeClassifier\n",
    "\n",
    "decision_tree = DecisionTreeClassifier()\n",
    "decision_tree.fit(X_train_df, Y_train_df)"
   ]
  },
  {
   "cell_type": "markdown",
   "id": "62659906-f2ad-43c2-a16e-45b3d8b47788",
   "metadata": {},
   "source": [
    "## Evaluación de modelos predictivos"
   ]
  },
  {
   "cell_type": "code",
   "execution_count": 340,
   "id": "659519bc-6f9c-40c5-975a-cfee076e43b5",
   "metadata": {
    "tags": []
   },
   "outputs": [],
   "source": [
    "from sklearn.metrics import ConfusionMatrixDisplay, confusion_matrix\n",
    "\n",
    "def conf_mat_acc(modelo, X_train_df, Y_train_df):\n",
    "    y_pred = modelo.predict(X_train_df)\n",
    "    cm = confusion_matrix(Y_train_df, y_pred)\n",
    "    disp = ConfusionMatrixDisplay(confusion_matrix=cm, display_labels=np.unique(Y_train_df))\n",
    "    disp.plot(cmap=plt.cm.Blues, values_format=\"d\")\n",
    "    \n",
    "    true_pred = cm[0, 0] + cm[1, 1]\n",
    "    total_data = np.sum(cm)\n",
    "    accuracy = true_pred / total_data\n",
    "    print('accuracy:', np.round(accuracy, 2))\n",
    "    \n",
    "    plt.show()"
   ]
  },
  {
   "cell_type": "code",
   "execution_count": 341,
   "id": "cbd5d684-a8c4-4937-a9bd-76aaac21644e",
   "metadata": {
    "tags": []
   },
   "outputs": [
    {
     "name": "stdout",
     "output_type": "stream",
     "text": [
      "accuracy: 0.69\n"
     ]
    },
    {
     "data": {
      "image/png": "[encoded data removed]",
      "text/plain": [
       "<Figure size 640x480 with 2 Axes>"
      ]
     },
     "metadata": {},
     "output_type": "display_data"
    }
   ],
   "source": [
    "conf_mat_acc(logreg, X_train_df, Y_train_df)"
   ]
  },
  {
   "cell_type": "code",
   "execution_count": 345,
   "id": "a50fc4ea-d853-4950-8176-ce52970f9d81",
   "metadata": {},
   "outputs": [
    {
     "name": "stdout",
     "output_type": "stream",
     "text": [
      "accuracy: 0.83\n"
     ]
    },
    {
     "data": {
      "image/png": "[encoded data removed]",
      "text/plain": [
       "<Figure size 640x480 with 2 Axes>"
      ]
     },
     "metadata": {},
     "output_type": "display_data"
    }
   ],
   "source": [
    "conf_mat_acc(decision_tree, X_train_df, Y_train_df)"
   ]
  },
  {
   "cell_type": "markdown",
   "id": "3ca1275c-c0a4-4fc4-8415-0dec9d6dc663",
   "metadata": {},
   "source": [
    "## Evaluación sobre el Test set"
   ]
  },
  {
   "cell_type": "code",
   "execution_count": 346,
   "id": "768be0c1-1f96-4d25-ab66-b12f2ef5ee98",
   "metadata": {
    "tags": []
   },
   "outputs": [
    {
     "name": "stdout",
     "output_type": "stream",
     "text": [
      "      Marital status  Application mode  Application order  Course  \\\n",
      "1235               1                12                  1      17   \n",
      "1294               2                12                  1       4   \n",
      "1322               1                 1                  5      12   \n",
      "\n",
      "      Daytime/evening attendance  Previous qualification  Nacionality  \\\n",
      "1235                           0                       1            1   \n",
      "1294                           1                       1            1   \n",
      "1322                           1                       1            1   \n",
      "\n",
      "      Mother's qualification  Father's qualification  Mother's occupation  \\\n",
      "1235                      13                      28                    8   \n",
      "1294                       1                      31                   10   \n",
      "1322                      23                      28                   10   \n",
      "\n",
      "      ...  Curricular units 2nd sem (credited)  \\\n",
      "1235  ...                                    0   \n",
      "1294  ...                                    0   \n",
      "1322  ...                                    0   \n",
      "\n",
      "      Curricular units 2nd sem (enrolled)  \\\n",
      "1235                                    5   \n",
      "1294                                    6   \n",
      "1322                                    8   \n",
      "\n",
      "      Curricular units 2nd sem (evaluations)  \\\n",
      "1235                                       9   \n",
      "1294                                       0   \n",
      "1322                                       8   \n",
      "\n",
      "      Curricular units 2nd sem (approved)  Curricular units 2nd sem (grade)  \\\n",
      "1235                                    3                          11.00000   \n",
      "1294                                    0                           0.00000   \n",
      "1322                                    8                          13.76375   \n",
      "\n",
      "      Curricular units 2nd sem (without evaluations)  Unemployment rate  \\\n",
      "1235                                               0               10.8   \n",
      "1294                                               0               12.4   \n",
      "1322                                               0                9.4   \n",
      "\n",
      "      Inflation rate   GDP    Target  \n",
      "1235             1.4  1.74   Dropout  \n",
      "1294             0.5  1.79   Dropout  \n",
      "1322            -0.8 -3.12  Graduate  \n",
      "\n",
      "[3 rows x 35 columns]\n",
      "<class 'pandas.core.frame.DataFrame'>\n",
      "Int64Index: 1328 entries, 1235 to 1087\n",
      "Data columns (total 35 columns):\n",
      " #   Column                                          Non-Null Count  Dtype  \n",
      "---  ------                                          --------------  -----  \n",
      " 0   Marital status                                  1328 non-null   int64  \n",
      " 1   Application mode                                1328 non-null   int64  \n",
      " 2   Application order                               1328 non-null   int64  \n",
      " 3   Course                                          1328 non-null   int64  \n",
      " 4   Daytime/evening attendance                      1328 non-null   int64  \n",
      " 5   Previous qualification                          1328 non-null   int64  \n",
      " 6   Nacionality                                     1328 non-null   int64  \n",
      " 7   Mother's qualification                          1328 non-null   int64  \n",
      " 8   Father's qualification                          1328 non-null   int64  \n",
      " 9   Mother's occupation                             1328 non-null   int64  \n",
      " 10  Father's occupation                             1328 non-null   int64  \n",
      " 11  Displaced                                       1328 non-null   int64  \n",
      " 12  Educational special needs                       1328 non-null   int64  \n",
      " 13  Debtor                                          1328 non-null   int64  \n",
      " 14  Tuition fees up to date                         1328 non-null   int64  \n",
      " 15  Gender                                          1328 non-null   int64  \n",
      " 16  Scholarship holder                              1328 non-null   int64  \n",
      " 17  Age at enrollment                               1328 non-null   int64  \n",
      " 18  International                                   1328 non-null   int64  \n",
      " 19  Curricular units 1st sem (credited)             1328 non-null   int64  \n",
      " 20  Curricular units 1st sem (enrolled)             1328 non-null   int64  \n",
      " 21  Curricular units 1st sem (evaluations)          1328 non-null   int64  \n",
      " 22  Curricular units 1st sem (approved)             1328 non-null   int64  \n",
      " 23  Curricular units 1st sem (grade)                1328 non-null   float64\n",
      " 24  Curricular units 1st sem (without evaluations)  1328 non-null   int64  \n",
      " 25  Curricular units 2nd sem (credited)             1328 non-null   int64  \n",
      " 26  Curricular units 2nd sem (enrolled)             1328 non-null   int64  \n",
      " 27  Curricular units 2nd sem (evaluations)          1328 non-null   int64  \n",
      " 28  Curricular units 2nd sem (approved)             1328 non-null   int64  \n",
      " 29  Curricular units 2nd sem (grade)                1328 non-null   float64\n",
      " 30  Curricular units 2nd sem (without evaluations)  1328 non-null   int64  \n",
      " 31  Unemployment rate                               1328 non-null   float64\n",
      " 32  Inflation rate                                  1328 non-null   float64\n",
      " 33  GDP                                             1328 non-null   float64\n",
      " 34  Target                                          1328 non-null   object \n",
      "dtypes: float64(5), int64(29), object(1)\n",
      "memory usage: 373.5+ KB\n"
     ]
    }
   ],
   "source": [
    "# ahora hay que preparar el test set para evaluación\n",
    "print(test_df.head(3))\n",
    "test_df.info()"
   ]
  },
  {
   "cell_type": "code",
   "execution_count": 348,
   "id": "849af722-7600-4580-8788-b1fa31eb275d",
   "metadata": {
    "tags": []
   },
   "outputs": [
    {
     "data": {
      "image/png": "[encoded data removed]",
      "text/plain": [
       "<Figure size 640x480 with 1 Axes>"
      ]
     },
     "metadata": {},
     "output_type": "display_data"
    }
   ],
   "source": [
    "# preprocesando test set\n",
    "sns.countplot(data=test_df, x='Gender', hue='Target', hue_order=['Dropout', 'Enrolled', 'Graduate'])\n",
    "plt.xticks(ticks=[0,1], labels=['Female','Male'])\n",
    "plt.ylabel('Número de estudiantes')\n",
    "plt.show()"
   ]
  },
  {
   "cell_type": "code",
   "execution_count": 349,
   "id": "af7e18ee-4135-45e8-a763-5de04189b49a",
   "metadata": {
    "tags": []
   },
   "outputs": [],
   "source": [
    "test_df=test_df[test_df.Target!='Enrolled']"
   ]
  },
  {
   "cell_type": "code",
   "execution_count": 350,
   "id": "35d28f25-7b0c-42ef-a325-883f2f9cf017",
   "metadata": {
    "tags": []
   },
   "outputs": [],
   "source": [
    "# map para label encoding\n",
    "test_df['Target'] = test_df['Target'].map({'Graduate': 0, 'Dropout': 1}).astype(int)"
   ]
  },
  {
   "cell_type": "code",
   "execution_count": 351,
   "id": "69fae0f8-3dde-41d6-9928-6f43022f6062",
   "metadata": {
    "tags": []
   },
   "outputs": [
    {
     "name": "stdout",
     "output_type": "stream",
     "text": [
      "(1089, 5)\n"
     ]
    }
   ],
   "source": [
    "# crear test set \n",
    "X_test_df = test_df[features]\n",
    "\n",
    "print(X_test_df.shape)"
   ]
  },
  {
   "cell_type": "code",
   "execution_count": 352,
   "id": "b2991e3e-2975-4edc-9117-3993d8842c74",
   "metadata": {
    "tags": []
   },
   "outputs": [
    {
     "name": "stdout",
     "output_type": "stream",
     "text": [
      "[0 1 0 0 0 0 1 1 0 0]\n"
     ]
    }
   ],
   "source": [
    "# prediccion de Survived en test set\n",
    "Y_pred_log = logreg.predict(X_test_df)\n",
    "Y_pred_tree = decision_tree.predict(X_test_df)\n",
    "print(Y_pred_log[0:10])"
   ]
  }
 ],
 "metadata": {
  "kernelspec": {
   "display_name": "Python 3 (ipykernel)",
   "language": "python",
   "name": "python3"
  },
  "language_info": {
   "codemirror_mode": {
    "name": "ipython",
    "version": 3
   },
   "file_extension": ".py",
   "mimetype": "text/x-python",
   "name": "python",
   "nbconvert_exporter": "python",
   "pygments_lexer": "ipython3",
   "version": "3.9.13"
  }
 },
 "nbformat": 4,
 "nbformat_minor": 5
}
